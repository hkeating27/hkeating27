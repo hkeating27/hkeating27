{
  "cells": [
    {
      "cell_type": "markdown",
      "metadata": {
        "id": "view-in-github",
        "colab_type": "text"
      },
      "source": [
        "<a href=\"https://colab.research.google.com/github/hkeating27/hkeating27/blob/main/For_CS3100_Fall2022/02_Basic_DFA/ASSIGNMENT-2/u1000000_asg02.ipynb\" target=\"_parent\"><img src=\"https://colab.research.google.com/assets/colab-badge.svg\" alt=\"Open In Colab\"/></a>"
      ]
    },
    {
      "cell_type": "code",
      "execution_count": 2,
      "metadata": {
        "id": "2mGV-Aw3qw8I",
        "outputId": "7071dc43-7277-414f-98f9-d93dd473a158",
        "colab": {
          "base_uri": "https://localhost:8080/"
        }
      },
      "outputs": [
        {
          "output_type": "stream",
          "name": "stdout",
          "text": [
            "Cloning into 'Jove'...\n",
            "remote: Enumerating objects: 5837, done.\u001b[K\n",
            "remote: Counting objects: 100% (1203/1203), done.\u001b[K\n",
            "remote: Compressing objects: 100% (521/521), done.\u001b[K\n",
            "remote: Total 5837 (delta 681), reused 1142 (delta 632), pack-reused 4634\u001b[K\n",
            "Receiving objects: 100% (5837/5837), 8.99 MiB | 25.14 MiB/s, done.\n",
            "Resolving deltas: 100% (3686/3686), done.\n",
            "You may use any of these help commands:\n",
            "help(lphi)\n",
            "help(lunit)\n",
            "help(lcat)\n",
            "help(lexp)\n",
            "help(lunion)\n",
            "help(lstar)\n",
            "help(srev)\n",
            "help(lrev)\n",
            "help(shomo)\n",
            "help(lhomo)\n",
            "help(powset)\n",
            "help(lint)\n",
            "help(lsymdiff)\n",
            "help(lminus)\n",
            "help(lissubset)\n",
            "help(lissuperset)\n",
            "help(lcomplem)\n",
            "help(product)\n",
            "help(nthnumeric)\n",
            "\n",
            "You may use any of these help commands:\n",
            "help(md2mc)\n",
            ".. and if you want to dig more, then ..\n",
            "help(default_line_attr)\n",
            "help(length_ok_input_items)\n",
            "help(union_line_attr_list_fld)\n",
            "help(extend_rsltdict)\n",
            "help(form_delta)\n",
            "help(get_machine_components)\n",
            "\n",
            "You may use any of these help commands:\n",
            "help(ResetStNum)\n",
            "help(NxtStateStr)\n",
            "\n",
            "You may use any of these help commands:\n",
            "help(mkp_dfa)\n",
            "help(mk_dfa)\n",
            "help(totalize_dfa)\n",
            "help(addtosigma_delta)\n",
            "help(step_dfa)\n",
            "help(run_dfa)\n",
            "help(accepts_dfa)\n",
            "help(comp_dfa)\n",
            "help(flTup)\n",
            "help(union_dfa)\n",
            "help(intersect_dfa)\n",
            "help(pruneUnreach)\n",
            "help(iso_dfa)\n",
            "help(langeq_dfa)\n",
            "help(same_status)\n",
            "help(h_langeq_dfa)\n",
            "help(fixptDist)\n",
            "help(min_dfa)\n",
            "help(pairFR)\n",
            "help(state_combos)\n",
            "help(sepFinNonFin)\n",
            "help(bash_eql_classes)\n",
            "help(listminus)\n",
            "help(bash_1)\n",
            "help(mk_rep_eqc)\n",
            "help(F_of)\n",
            "help(rep_of_s)\n",
            "help(q0_of)\n",
            "help(Delta_of)\n",
            "help(mk_state_eqc_name)\n",
            "\n",
            "You may use any of these help commands:\n",
            "help(mk_nfa)\n",
            "help(totalize_nfa)\n",
            "help(step_nfa)\n",
            "help(run_nfa)\n",
            "help(ec_step_nfa)\n",
            "help(Eclosure)\n",
            "help(Echelp)\n",
            "help(accepts_nfa)\n",
            "help(nfa2dfa)\n",
            "help(n2d)\n",
            "help(inSets)\n",
            "help(rev_dfa)\n",
            "help(min_dfa_brz)\n",
            "\n",
            "You may use any of these help commands:\n",
            "help(re2nfa)\n",
            "\n"
          ]
        }
      ],
      "source": [
        "#~~~~~~~~~~~~~~~~~~~~~~~~~~~~~~~~~~~~~~~~~~~~~~~~~~~~~~~\n",
        "# If you want to clear outputs for a \"fresh look\", go to Edit and hit \"clear outputs\"\n",
        "#~~~~~~~~~~~~~~~~~~~~~~~~~~~~~~~~~~~~~~~~~~~~~~~~~~~~~~~\n",
        "import sys\n",
        "\n",
        "# -- Detect if in Own Install or in Colab\n",
        "try:\n",
        "    import google.colab\n",
        "    OWN_INSTALL = False\n",
        "except:\n",
        "    OWN_INSTALL = True\n",
        "    \n",
        "if OWN_INSTALL:\n",
        "    \n",
        "  #---- Leave these definitions ON if running on laptop\n",
        "  #---- Else turn OFF by putting them between ''' ... '''\n",
        "\n",
        "  sys.path[0:0] = ['../../../../..',  '../../../../../3rdparty',  \n",
        "                   '../../../..',  '../../../../3rdparty',  \n",
        "                   '../../..',     '../../../3rdparty', \n",
        "                   '../..',        '../../3rdparty',\n",
        "                   '..',           '../3rdparty' ]\n",
        "\n",
        "else: # In colab\n",
        "  ! if [ ! -d Jove ]; then git clone https://github.com/ganeshutah/Jove Jove; fi\n",
        "  sys.path.append('./Jove')\n",
        "  sys.path.append('./Jove/jove')\n",
        "\n",
        "# -- common imports --\n",
        " \n",
        "from jove.LangDef   import *  #-- mainly for nthnumeric\n",
        "from jove.Def_md2mc import *  #-- for md2mc\n",
        "from jove.Def_DFA   import *  #-- for all DFA functions\n",
        "from jove.DotBashers import * #-- for dotObj_dfa\n",
        "\n",
        "from jove.Def_NFA import *\n",
        "from jove.Def_RE2NFA import *\n",
        "#~~~~~~~~~~~~~~~~~~~~~~~~~~~~~~~~~~~~~~~~~~~~~~~~~~~~~~~"
      ]
    },
    {
      "cell_type": "markdown",
      "metadata": {
        "id": "lRsW2w2jt9na"
      },
      "source": [
        "OVERVIEW OF ALL QUESTIONS (points subject to slight changes):\n",
        "\n",
        "* Question 1 (25%)\n",
        "  - Part a: Define L_eq and L_neq in Jove \n",
        "    - Difficulty: Medium: Needs careful thought about ranges (10%)\n",
        "  - Part b: See if their union is the universe (easy) (3%)\n",
        "  - Part c: Drawing a specific conclusion (easy) (2%)\n",
        "  - Part d: Finding the missing (easy) (3%)\n",
        "  - Part e: Mathematical description of missing\n",
        "    - Difficulty: Medium: Need careful thinking of all the cases (7%)\n",
        "\n",
        "* Question 2 (30%)\n",
        "  - Part a: Building a DFA called Even010\n",
        "    - Difficulty: Enjoyably medium: Fun debugging for all ages! (15%)\n",
        "  - Part b: DFA animation\n",
        "    - Difficulty: Naah. This is fun - totally worth it! (5%)\n",
        "  - Part c: Systematic testing (easy) (5%)\n",
        "  - Part d: Random-testing\n",
        "    - Difficulty: None.\n",
        "    - Value: Now you are getting proficient at testing  machines in many different ways. Valuable for all of us, software engineers! (3%)\n",
        "  - Part e: Comparative bullets (super-easy but useful documentation) (2%)\n",
        "\n",
        "* Question 3 (20%)\n",
        "  - Part a: Building a DFA called Ends010 (enjoyable and medium-easy) (10%)\n",
        "  - Part b: Computing the intersection (fun one-liner) (5%)\n",
        "  - Part c: Minimization of the intersection (fun and interesting outcome) (5%)\n",
        "\n",
        "* Question 4 (25%)\n",
        "  - Part a: Find states eliminated (easy and informative; answers may vary) (5%)\n",
        "  - Part b: Explanation of why getting rid of these states is OK (just a spot-check; not a proof) (20%)"
      ]
    },
    {
      "cell_type": "markdown",
      "metadata": {
        "id": "IDgJe_AQcEbe"
      },
      "source": [
        "## Question 1:"
      ]
    },
    {
      "cell_type": "markdown",
      "metadata": {
        "id": "lcubR90fcPyi"
      },
      "source": [
        "This problem is based on Problem 7, Page 26 of our textbook, but we will rename the languages to avoid some confusion, below.\n",
        "    \n",
        "Suppose we define the language\n",
        "    \n",
        "$$ L_{eq} = \\{ 0^i 1^j \\;:\\; i,j\\in Nat,\\; and\\; i=j \\}$$  \n",
        "\n",
        "(Note: Clearly we could have written this as\n",
        "$$ L_{eq} = \\{ 0^i 1^i \\;:\\; i\\in Nat  \\}$$ \n",
        "but we use the first form to set our question more smoothly.)\n",
        "    \n",
        "Now consider the language $L_{neq}$ \n",
        "    \n",
        "$$ L_{neq} = \\{ 0^i 1^j  \\;:\\; i,j\\in Nat,\\; and\\; i\\neq j \\}$$\n",
        "\n",
        "Your task is to explore whether $L_{eq}$ and $L_{neq}$ are complements. \n",
        "While you may already know the answer (pretend you don't!), we require you to work through some questions that will help you conclude one way or the other with much more certainty."
      ]
    },
    {
      "cell_type": "markdown",
      "metadata": {
        "id": "F40n0MopcVbD"
      },
      "source": [
        "###Part a: \n",
        "Define $L_{eq}$ in Jove for $\\Sigma=\\{0,1\\}$ and the universe being star(\\{0,1\\}, 6). This universe immediately helps you compute the length of the longest strings in it. (__Make sure that $L_{eq}$ includes all the strings in this universe__, and __none outside of it__.). Use this information in defining $L_{eq}$ below.  (__Again, make sure that the range(...) operator used in defining $L_{eq}$ is right.__)\n",
        "\n",
        "Following the definition of $L_{eq}$, define $L_{neq}$ in the same manner, in the space provided below. Make sure that all eligible strings from the universe are included (and none outside the universe are included).\n",
        "\n",
        "\n",
        "REMOVE IN FINAL: However, observe that for $L_{neq}$ you may have to run $i$ and $j$ over a larger range and insist that $(i+j < 7)$, in order to get all eligible strings of length <=6 that are in $L_{neq}$."
      ]
    },
    {
      "cell_type": "code",
      "execution_count": 3,
      "metadata": {
        "id": "636WgSYmqw8J",
        "colab": {
          "base_uri": "https://localhost:8080/"
        },
        "outputId": "8c44b177-8e39-46ff-f84c-f00e9e654e39"
      },
      "outputs": [
        {
          "output_type": "execute_result",
          "data": {
            "text/plain": [
              "{'', '000111', '0011', '01'}"
            ]
          },
          "metadata": {},
          "execution_count": 3
        }
      ],
      "source": [
        "Sigma = {'0','1'}\n",
        "\n",
        "# Define L_eq as follows: \n",
        "# L_eq = { \"0\"* i + \"1\" * j for i in range(...fill...) for j in range(...) if ...as necessary ... }\n",
        "\n",
        "#L_eq =  ...definition...\n",
        " \n",
        "L_eq   =  { \"0\"* i + \"1\" * j for i in range(4) for j in range(4) if i == j }\n",
        "\n",
        "L_eq # to print L_eq and make sure it meets the stated conditions"
      ]
    },
    {
      "cell_type": "code",
      "execution_count": 4,
      "metadata": {
        "id": "dm7ANwbxqw8K",
        "colab": {
          "base_uri": "https://localhost:8080/"
        },
        "outputId": "4515341b-f3f9-49e0-b835-82466b10531e"
      },
      "outputs": [
        {
          "output_type": "execute_result",
          "data": {
            "text/plain": [
              "{'0',\n",
              " '00',\n",
              " '000',\n",
              " '0001',\n",
              " '00011',\n",
              " '001',\n",
              " '00111',\n",
              " '011',\n",
              " '0111',\n",
              " '1',\n",
              " '11',\n",
              " '111'}"
            ]
          },
          "metadata": {},
          "execution_count": 4
        }
      ],
      "source": [
        "# L_{neq} = \"Your Definition Here, as above\"\n",
        "\n",
        "L_neq =  { \"0\"* i + \"1\" * j for i in range(4) for j in range(4) if i != j }\n",
        "\n",
        "L_neq # to print L_neq"
      ]
    },
    {
      "cell_type": "markdown",
      "source": [
        "###Part b:"
      ],
      "metadata": {
        "id": "RcYxZIHejx1L"
      }
    },
    {
      "cell_type": "markdown",
      "metadata": {
        "id": "EuT_gMTSIXFZ"
      },
      "source": [
        " Fill the code-cell below to compute the union of $L_{eq}$ and $L_{neq}$ using Jove's lunion function. Compare the result to the universe. Let the comparison result be called __Matches__."
      ]
    },
    {
      "cell_type": "code",
      "source": [
        "help(lunion)\n",
        "\n",
        "# Union = ...fill this using the lunion(...) Jove function ...\n",
        " \n",
        "Union =  lunion(L_eq, L_neq)\n",
        "\n",
        "# Matches = ...fill this...\n",
        "universe =  { \"0\"* i + \"1\" * j for i in range(4) for j in range(4)}\n",
        "#print(universe)\n",
        "Matches = False\n",
        "if Union == universe:\n",
        "  Matches = True\n",
        "\n",
        "\n",
        "\n",
        "Matches # This must print either True or False\n",
        " "
      ],
      "metadata": {
        "id": "4obRghAhIMdT",
        "colab": {
          "base_uri": "https://localhost:8080/"
        },
        "outputId": "f8bdd219-0f45-4fe3-8db0-b7ffc0f5b829"
      },
      "execution_count": 23,
      "outputs": [
        {
          "output_type": "stream",
          "name": "stdout",
          "text": [
            "Help on function lunion in module jove.LangDef:\n",
            "\n",
            "lunion(L1, L2)\n",
            "    In : L1 (language : a set),\n",
            "         L2 (language : a set).\n",
            "    Out: L1 union L2 (language : a set).\n",
            "\n"
          ]
        },
        {
          "output_type": "execute_result",
          "data": {
            "text/plain": [
              "True"
            ]
          },
          "metadata": {},
          "execution_count": 23
        }
      ]
    },
    {
      "cell_type": "markdown",
      "source": [
        "###Part c:"
      ],
      "metadata": {
        "id": "hXU7T5qvHkVS"
      }
    },
    {
      "cell_type": "markdown",
      "metadata": {
        "id": "t4FcQPQmefyf"
      },
      "source": [
        "* $L_{neq}$ is indeed the complement of $L_{eq}$ because it contains all of the elements in the universe which are not in $L_{eq}$"
      ]
    },
    {
      "cell_type": "markdown",
      "metadata": {
        "id": "GF56-gSpqw8K"
      },
      "source": [
        "\n",
        "\n",
        "###Part d: \n",
        "If Matches is True, you are done. Else, find the language (set of strings) missing from $L_{neq}$ (with respect to the actual complement of the $L_{eq}$ set). Call this language LangMissed.\n",
        "\n",
        "For the ease of debugging, it is best not to define LangMissed in one shot; you may set up intermediate definitions."
      ]
    },
    {
      "cell_type": "code",
      "execution_count": 6,
      "metadata": {
        "id": "r2fUrdTMqw8L",
        "colab": {
          "base_uri": "https://localhost:8080/"
        },
        "outputId": "6fa3f2f4-4389-4836-a24e-fb546221bf24"
      },
      "outputs": [
        {
          "output_type": "stream",
          "name": "stdout",
          "text": [
            "The strings missed are:  Ellipsis\n"
          ]
        }
      ],
      "source": [
        "\"YOUR PYTHON-3 CODE CALLING JOVE FUNCTIONS HERE. USE MULTIPLE LINES.\"\n",
        "#____________________________________\n",
        "#Since Matches returned true I am done\n",
        "#_____________________________________\n",
        "\n",
        "\n",
        "# LangMissed = \"THE SET OF ALL STRINGS MISSED.\"\n",
        "\n",
        "# LangMissed = ...express it suitably ...\n",
        "\n",
        "SigmaStar =  ...\n",
        "\n",
        "#\n",
        "LangMissed = ...\n",
        "\n",
        "print(\"The strings missed are: \", LangMissed)\n",
        "\n"
      ]
    },
    {
      "cell_type": "markdown",
      "metadata": {
        "id": "x6981FH-qw8L"
      },
      "source": [
        "###Part e: \n",
        "Provide a fully mathematical expression (not Jove code) to define LangMissed.\n",
        "\n",
        "You are required to construct it in the form of a multi-way concatenation (an answer of the form $Sigma^* \\;-\\; L_{eq}$ is not acceptable).\n",
        "\n",
        "Your answer will look like $(L_1\\; L_2 \\; L_3 \\; L_4 \\; L_5)$. Note: it has to be a fully general description of all the things in LangMissed, and so it is very likely that you'll need all these five pieces  $L_1$ through $L_5$.\n",
        "\n",
        "$L_1$ through $L_5$ will turn out to be $\\Sigma^*$ or simple languages such as \\{0\\) and \\{1\\}. This $\\Sigma^*$ is the fully general one, not a truncated $\\Sigma^*$.\n",
        "\n",
        "As a note, if you can write it as a shorter concatenation (less than five languages) that is fine. In any case, you must __explain__ your answers (no points w/o explanations for any mathematical question).\n",
        "\n",
        "\n"
      ]
    },
    {
      "cell_type": "markdown",
      "metadata": {
        "id": "KxFf9BUNcxAV"
      },
      "source": [
        "\n",
        "\n",
        "\n",
        "Answer = \"A LATEX EXPRESSION THAT MARKDOWN TYPE-SETS NICELY AS A MATH EQUATION \""
      ]
    },
    {
      "cell_type": "markdown",
      "source": [
        "#Since Matches returned true I am done\n",
        "\n",
        "```\n",
        "# This is formatted as code\n",
        "```\n",
        "\n",
        "\n"
      ],
      "metadata": {
        "id": "lV4sTaLOatxz"
      }
    },
    {
      "cell_type": "markdown",
      "source": [
        "__Food for thought: Can this language be implemented as a DFA?__"
      ],
      "metadata": {
        "id": "yV1HlvU3jFVr"
      }
    },
    {
      "cell_type": "markdown",
      "metadata": {
        "id": "p-yLCjKKdX4v"
      },
      "source": [
        "## Question 2:"
      ]
    },
    {
      "cell_type": "markdown",
      "metadata": {
        "id": "atTk-v-EkDY2"
      },
      "source": [
        "###Part a: \n",
        " DFA construction"
      ]
    },
    {
      "cell_type": "markdown",
      "metadata": {
        "id": "pTPlSX1Xeu2_"
      },
      "source": [
        "Using Jove's markdown, define a DFA for the language $L$ of strings over alphabet $\\{0,1\\}$, where\n",
        "\n",
        "$L$ = $ ( \\;\\;  \\overline{ \\{0,1\\}^* \\{010\\}\\{0,1\\}^* }  \\; \\{010\\} \\; \\overline{ \\{0,1\\}^*\\{010\\}\\{0,1\\}^*} \\;\\;   \\{010\\}  \\;\\;  )^*$\n",
        "\n",
        " \n",
        "$L$ consists of \n",
        "\n",
        "* an __arbitrary string not containing a 010__, \n",
        "* then a 010 \n",
        "* then another __arbitrary string not containing a 010__\n",
        "* then 010\n",
        "\n",
        "all repeated zero or more times.\n",
        "\n",
        "It is best to write out some stringsin $L$ before you finish the DFA.\n",
        "\n",
        "* You must THOROUGHLY document your construction. See how to do this, as described in 00_Overview_Of_CS3100 where we also give you codes that help you test DFA.\n",
        "\n",
        "Call this DFA by the name \"Even010\"."
      ]
    },
    {
      "cell_type": "code",
      "execution_count": 52,
      "metadata": {
        "id": "wFevIiOMewRD",
        "colab": {
          "base_uri": "https://localhost:8080/",
          "height": 345
        },
        "outputId": "31a7d660-13d2-44d3-aa65-0ea34dc38c39"
      },
      "outputs": [
        {
          "output_type": "error",
          "ename": "AssertionError",
          "evalue": "ignored",
          "traceback": [
            "\u001b[0;31m---------------------------------------------------------------------------\u001b[0m",
            "\u001b[0;31mAssertionError\u001b[0m                            Traceback (most recent call last)",
            "\u001b[0;32m<ipython-input-52-1621b90d9350>\u001b[0m in \u001b[0;36m<module>\u001b[0;34m\u001b[0m\n\u001b[1;32m     29\u001b[0m \u001b[0;34m\u001b[0m\u001b[0m\n\u001b[1;32m     30\u001b[0m \u001b[0;31m!\u001b[0m\u001b[0;31m!\u001b[0m\u001b[0;34m-\u001b[0m\u001b[0;34m-\u001b[0m\u001b[0;34m-\u001b[0m\u001b[0;34m\u001b[0m\u001b[0;34m\u001b[0m\u001b[0m\n\u001b[0;32m---> 31\u001b[0;31m ''')\n\u001b[0m",
            "\u001b[0;32m/content/Jove/jove/Def_md2mc.py\u001b[0m in \u001b[0;36mmd2mc\u001b[0;34m(src, fname)\u001b[0m\n\u001b[1;32m    696\u001b[0m     \u001b[0mmyparser\u001b[0m \u001b[0;34m=\u001b[0m \u001b[0myacc\u001b[0m\u001b[0;34m(\u001b[0m\u001b[0;34m)\u001b[0m\u001b[0;34m\u001b[0m\u001b[0;34m\u001b[0m\u001b[0m\n\u001b[1;32m    697\u001b[0m     \u001b[0mmdlexer\u001b[0m \u001b[0;34m=\u001b[0m \u001b[0mlex\u001b[0m\u001b[0;34m(\u001b[0m\u001b[0;34m)\u001b[0m   \u001b[0;31m# Build lexer custom-made for markdown\u001b[0m\u001b[0;34m\u001b[0m\u001b[0;34m\u001b[0m\u001b[0m\n\u001b[0;32m--> 698\u001b[0;31m     \u001b[0mrslt\u001b[0m \u001b[0;34m=\u001b[0m \u001b[0mmyparser\u001b[0m\u001b[0;34m.\u001b[0m\u001b[0mparse\u001b[0m\u001b[0;34m(\u001b[0m\u001b[0mmdstr\u001b[0m\u001b[0;34m,\u001b[0m \u001b[0mlexer\u001b[0m\u001b[0;34m=\u001b[0m\u001b[0mmdlexer\u001b[0m\u001b[0;34m)\u001b[0m \u001b[0;31m# feed into parse fn\u001b[0m\u001b[0;34m\u001b[0m\u001b[0;34m\u001b[0m\u001b[0m\n\u001b[0m\u001b[1;32m    699\u001b[0m     \u001b[0;31m#--\u001b[0m\u001b[0;34m\u001b[0m\u001b[0;34m\u001b[0m\u001b[0;34m\u001b[0m\u001b[0m\n\u001b[1;32m    700\u001b[0m     \u001b[0;31m# Now, based on machine type, return correct machine object.\u001b[0m\u001b[0;34m\u001b[0m\u001b[0;34m\u001b[0m\u001b[0;34m\u001b[0m\u001b[0m\n",
            "\u001b[0;32m/content/Jove/jove/yacc.py\u001b[0m in \u001b[0;36mparse\u001b[0;34m(self, input, lexer, debug, tracking, tokenfunc)\u001b[0m\n\u001b[1;32m    265\u001b[0m             \u001b[0;32mreturn\u001b[0m \u001b[0mself\u001b[0m\u001b[0;34m.\u001b[0m\u001b[0mparseopt\u001b[0m\u001b[0;34m(\u001b[0m\u001b[0minput\u001b[0m\u001b[0;34m,\u001b[0m\u001b[0mlexer\u001b[0m\u001b[0;34m,\u001b[0m\u001b[0mdebug\u001b[0m\u001b[0;34m,\u001b[0m\u001b[0mtracking\u001b[0m\u001b[0;34m,\u001b[0m\u001b[0mtokenfunc\u001b[0m\u001b[0;34m)\u001b[0m\u001b[0;34m\u001b[0m\u001b[0;34m\u001b[0m\u001b[0m\n\u001b[1;32m    266\u001b[0m         \u001b[0;32melse\u001b[0m\u001b[0;34m:\u001b[0m\u001b[0;34m\u001b[0m\u001b[0;34m\u001b[0m\u001b[0m\n\u001b[0;32m--> 267\u001b[0;31m             \u001b[0;32mreturn\u001b[0m \u001b[0mself\u001b[0m\u001b[0;34m.\u001b[0m\u001b[0mparseopt_notrack\u001b[0m\u001b[0;34m(\u001b[0m\u001b[0minput\u001b[0m\u001b[0;34m,\u001b[0m\u001b[0mlexer\u001b[0m\u001b[0;34m,\u001b[0m\u001b[0mdebug\u001b[0m\u001b[0;34m,\u001b[0m\u001b[0mtracking\u001b[0m\u001b[0;34m,\u001b[0m\u001b[0mtokenfunc\u001b[0m\u001b[0;34m)\u001b[0m\u001b[0;34m\u001b[0m\u001b[0;34m\u001b[0m\u001b[0m\n\u001b[0m\u001b[1;32m    268\u001b[0m \u001b[0;34m\u001b[0m\u001b[0m\n\u001b[1;32m    269\u001b[0m \u001b[0;34m\u001b[0m\u001b[0m\n",
            "\u001b[0;32m/content/Jove/jove/yacc.py\u001b[0m in \u001b[0;36mparseopt_notrack\u001b[0;34m(self, input, lexer, debug, tracking, tokenfunc)\u001b[0m\n\u001b[1;32m    971\u001b[0m                             \u001b[0;32mdel\u001b[0m \u001b[0msymstack\u001b[0m\u001b[0;34m[\u001b[0m\u001b[0;34m-\u001b[0m\u001b[0mplen\u001b[0m\u001b[0;34m:\u001b[0m\u001b[0;34m]\u001b[0m\u001b[0;34m\u001b[0m\u001b[0;34m\u001b[0m\u001b[0m\n\u001b[1;32m    972\u001b[0m                             \u001b[0;32mdel\u001b[0m \u001b[0mstatestack\u001b[0m\u001b[0;34m[\u001b[0m\u001b[0;34m-\u001b[0m\u001b[0mplen\u001b[0m\u001b[0;34m:\u001b[0m\u001b[0;34m]\u001b[0m\u001b[0;34m\u001b[0m\u001b[0;34m\u001b[0m\u001b[0m\n\u001b[0;32m--> 973\u001b[0;31m                             \u001b[0mp\u001b[0m\u001b[0;34m.\u001b[0m\u001b[0mcallable\u001b[0m\u001b[0;34m(\u001b[0m\u001b[0mpslice\u001b[0m\u001b[0;34m)\u001b[0m\u001b[0;34m\u001b[0m\u001b[0;34m\u001b[0m\u001b[0m\n\u001b[0m\u001b[1;32m    974\u001b[0m                             \u001b[0msymstack\u001b[0m\u001b[0;34m.\u001b[0m\u001b[0mappend\u001b[0m\u001b[0;34m(\u001b[0m\u001b[0msym\u001b[0m\u001b[0;34m)\u001b[0m\u001b[0;34m\u001b[0m\u001b[0;34m\u001b[0m\u001b[0m\n\u001b[1;32m    975\u001b[0m                             \u001b[0mstate\u001b[0m \u001b[0;34m=\u001b[0m \u001b[0mgoto\u001b[0m\u001b[0;34m[\u001b[0m\u001b[0mstatestack\u001b[0m\u001b[0;34m[\u001b[0m\u001b[0;34m-\u001b[0m\u001b[0;36m1\u001b[0m\u001b[0;34m]\u001b[0m\u001b[0;34m]\u001b[0m\u001b[0;34m[\u001b[0m\u001b[0mpname\u001b[0m\u001b[0;34m]\u001b[0m\u001b[0;34m\u001b[0m\u001b[0;34m\u001b[0m\u001b[0m\n",
            "\u001b[0;32m/content/Jove/jove/Def_md2mc.py\u001b[0m in \u001b[0;36mp_dfa_md\u001b[0;34m(t)\u001b[0m\n\u001b[1;32m    467\u001b[0m \u001b[0;32mdef\u001b[0m \u001b[0mp_dfa_md\u001b[0m\u001b[0;34m(\u001b[0m\u001b[0mt\u001b[0m\u001b[0;34m)\u001b[0m\u001b[0;34m:\u001b[0m\u001b[0;34m\u001b[0m\u001b[0;34m\u001b[0m\u001b[0m\n\u001b[1;32m    468\u001b[0m     \u001b[0;34m'''md : DFA lines'''\u001b[0m\u001b[0;34m\u001b[0m\u001b[0;34m\u001b[0m\u001b[0m\n\u001b[0;32m--> 469\u001b[0;31m     \u001b[0mmc\u001b[0m \u001b[0;34m=\u001b[0m \u001b[0mget_machine_components\u001b[0m\u001b[0;34m(\u001b[0m\u001b[0mt\u001b[0m\u001b[0;34m[\u001b[0m\u001b[0;36m2\u001b[0m\u001b[0;34m]\u001b[0m\u001b[0;34m,\u001b[0m \u001b[0;34m'DFA'\u001b[0m\u001b[0;34m)\u001b[0m\u001b[0;34m\u001b[0m\u001b[0;34m\u001b[0m\u001b[0m\n\u001b[0m\u001b[1;32m    470\u001b[0m     (From_s, To_s,\n\u001b[1;32m    471\u001b[0m      \u001b[0mG_in\u001b[0m\u001b[0;34m,\u001b[0m   \u001b[0mG_out\u001b[0m\u001b[0;34m,\u001b[0m\u001b[0;34m\u001b[0m\u001b[0;34m\u001b[0m\u001b[0m\n",
            "\u001b[0;32m/content/Jove/jove/Def_md2mc.py\u001b[0m in \u001b[0;36mget_machine_components\u001b[0;34m(line_attr_list, mc_type)\u001b[0m\n\u001b[1;32m    417\u001b[0m                                       \"SigmaEps\", mc_type)\n\u001b[1;32m    418\u001b[0m \u001b[0;34m\u001b[0m\u001b[0m\n\u001b[0;32m--> 419\u001b[0;31m     \u001b[0mDelta\u001b[0m \u001b[0;34m=\u001b[0m \u001b[0mform_delta\u001b[0m\u001b[0;34m(\u001b[0m\u001b[0mline_attr_list\u001b[0m\u001b[0;34m,\u001b[0m \u001b[0mmc_type\u001b[0m\u001b[0;34m)\u001b[0m\u001b[0;34m\u001b[0m\u001b[0;34m\u001b[0m\u001b[0m\n\u001b[0m\u001b[1;32m    420\u001b[0m \u001b[0;34m\u001b[0m\u001b[0m\n\u001b[1;32m    421\u001b[0m     return (set(From_s), set(To_s),\n",
            "\u001b[0;32m/content/Jove/jove/Def_md2mc.py\u001b[0m in \u001b[0;36mform_delta\u001b[0;34m(line_attr_list, mc_type)\u001b[0m\n\u001b[1;32m    343\u001b[0m                                             \u001b[0;34m(\u001b[0m\u001b[0mfrom_state\u001b[0m\u001b[0;34m,\u001b[0m \u001b[0minpsym\u001b[0m\u001b[0;34m)\u001b[0m\u001b[0;34m,\u001b[0m\u001b[0;34m\u001b[0m\u001b[0;34m\u001b[0m\u001b[0m\n\u001b[1;32m    344\u001b[0m                                             \u001b[0mnxtst\u001b[0m\u001b[0;34m,\u001b[0m\u001b[0;34m\u001b[0m\u001b[0;34m\u001b[0m\u001b[0m\n\u001b[0;32m--> 345\u001b[0;31m                                             Extend=False)\n\u001b[0m\u001b[1;32m    346\u001b[0m             \u001b[0;32melif\u001b[0m \u001b[0mmc_type\u001b[0m\u001b[0;34m==\u001b[0m\u001b[0;34m'NFA'\u001b[0m\u001b[0;34m:\u001b[0m\u001b[0;34m\u001b[0m\u001b[0;34m\u001b[0m\u001b[0m\n\u001b[1;32m    347\u001b[0m                 \u001b[0;31m# Allow nondeterminism\u001b[0m\u001b[0;34m\u001b[0m\u001b[0;34m\u001b[0m\u001b[0;34m\u001b[0m\u001b[0m\n",
            "\u001b[0;32m/content/Jove/jove/Def_md2mc.py\u001b[0m in \u001b[0;36mextend_rsltdict\u001b[0;34m(D, key, val, Extend)\u001b[0m\n\u001b[1;32m    254\u001b[0m         assert(key not in D\n\u001b[1;32m    255\u001b[0m               \u001b[0;34m)\u001b[0m\u001b[0;34m,\u001b[0m\u001b[0;34m(\u001b[0m\u001b[0;34m\"Error: Duplicate map at key \"\u001b[0m \u001b[0;34m+\u001b[0m \u001b[0mstr\u001b[0m\u001b[0;34m(\u001b[0m\u001b[0mkey\u001b[0m\u001b[0;34m)\u001b[0m \u001b[0;34m+\u001b[0m\u001b[0;34m\u001b[0m\u001b[0;34m\u001b[0m\u001b[0m\n\u001b[0;32m--> 256\u001b[0;31m                  \u001b[0;34m\"; duplicates: \"\u001b[0m \u001b[0;34m+\u001b[0m \u001b[0mstr\u001b[0m\u001b[0;34m(\u001b[0m\u001b[0mD\u001b[0m\u001b[0;34m[\u001b[0m\u001b[0mkey\u001b[0m\u001b[0;34m]\u001b[0m\u001b[0;34m)\u001b[0m \u001b[0;34m+\u001b[0m \u001b[0;34m\" and \"\u001b[0m \u001b[0;34m+\u001b[0m \u001b[0mstr\u001b[0m\u001b[0;34m(\u001b[0m\u001b[0mval\u001b[0m\u001b[0;34m)\u001b[0m\u001b[0;34m\u001b[0m\u001b[0;34m\u001b[0m\u001b[0m\n\u001b[0m\u001b[1;32m    257\u001b[0m                 )\n\u001b[1;32m    258\u001b[0m         \u001b[0mD\u001b[0m\u001b[0;34m[\u001b[0m\u001b[0mkey\u001b[0m\u001b[0;34m]\u001b[0m \u001b[0;34m=\u001b[0m \u001b[0mval\u001b[0m \u001b[0;31m# don't make a set\u001b[0m\u001b[0;34m\u001b[0m\u001b[0;34m\u001b[0m\u001b[0m\n",
            "\u001b[0;31mAssertionError\u001b[0m: Error: Duplicate map at key ('S1', '0'); duplicates: I and F"
          ]
        }
      ],
      "source": [
        "Even010 = md2mc('''\n",
        "\n",
        "DFA\n",
        "\n",
        "I    : 1   -> S2      !! I goes to I upon 1\n",
        "\n",
        "I    : 0   -> S0  !! I goes to S0 and I upon 0\n",
        "\n",
        "I    : λ   -> F  !! I goes to S0 and I upon 0\n",
        "\n",
        "S0   : 1   -> S0    !! S0 goes to S01 upon 1\n",
        "\n",
        "S0   : 0   -> S3    !! S0 goes to S01 upon 1\n",
        " \n",
        "S1   : 0   -> I    !! S0 goes to S01 upon 1\n",
        "\n",
        "S1   : 0   -> I    !! S0 goes to S01 upon 1\n",
        "\n",
        "\n",
        "S1   : 1   -> I    !! S0 goes to S01 upon 1I    : 1   -> S2      !! I goes to I upon 1\n",
        "\n",
        "I    : 0   -> S0  !! I goes to S0 and I upon 0\n",
        "\n",
        "S2   : 1   -> S3    !! S0 goes to S01 upon 1\n",
        "\n",
        "S2   : 0   -> S3    !! S0 goes to S01 upon 1\n",
        "\n",
        "S3   : 1   -> I    !! S0 goes to S01 upon 1\n",
        "\n",
        "S3   : 0   -> I    !! S0 goes to S01 upon 1\n",
        "\n",
        "!!---\n",
        "''')"
      ]
    },
    {
      "cell_type": "code",
      "execution_count": 51,
      "metadata": {
        "id": "nUj_VMZgey7f",
        "colab": {
          "base_uri": "https://localhost:8080/",
          "height": 404
        },
        "outputId": "28b5fa9a-7d1b-4d43-a17b-d445f9fec67a"
      },
      "outputs": [
        {
          "output_type": "execute_result",
          "data": {
            "text/plain": [
              "<graphviz.dot.Digraph at 0x7f8f55fbfbd0>"
            ],
            "image/svg+xml": "<?xml version=\"1.0\" encoding=\"UTF-8\" standalone=\"no\"?>\n<!DOCTYPE svg PUBLIC \"-//W3C//DTD SVG 1.1//EN\"\n \"http://www.w3.org/Graphics/SVG/1.1/DTD/svg11.dtd\">\n<!-- Generated by graphviz version 2.40.1 (20161225.0304)\n -->\n<!-- Title: %3 Pages: 1 -->\n<svg width=\"321pt\" height=\"287pt\"\n viewBox=\"0.00 0.00 320.60 287.00\" xmlns=\"http://www.w3.org/2000/svg\" xmlns:xlink=\"http://www.w3.org/1999/xlink\">\n<g id=\"graph0\" class=\"graph\" transform=\"scale(1 1) rotate(0) translate(4 283)\">\n<title>%3</title>\n<polygon fill=\"#ffffff\" stroke=\"transparent\" points=\"-4,4 -4,-283 316.5963,-283 316.5963,4 -4,4\"/>\n<!-- EMPTY -->\n<g id=\"node1\" class=\"node\">\n<title>EMPTY</title>\n</g>\n<!-- I -->\n<g id=\"node4\" class=\"node\">\n<title>I</title>\n<ellipse fill=\"none\" stroke=\"#000000\" cx=\"109\" cy=\"-149\" rx=\"18\" ry=\"18\"/>\n<text text-anchor=\"middle\" x=\"109\" y=\"-145.3\" font-family=\"Times,serif\" font-size=\"14.00\" fill=\"#000000\">I</text>\n</g>\n<!-- EMPTY&#45;&gt;I -->\n<g id=\"edge1\" class=\"edge\">\n<title>EMPTY&#45;&gt;I</title>\n<path fill=\"none\" stroke=\"#000000\" d=\"M54.3048,-149C62.6909,-149 71.9407,-149 80.4103,-149\"/>\n<polygon fill=\"#000000\" stroke=\"#000000\" points=\"80.5976,-152.5001 90.5976,-149 80.5976,-145.5001 80.5976,-152.5001\"/>\n</g>\n<!-- S2 -->\n<g id=\"node2\" class=\"node\">\n<title>S2</title>\n<ellipse fill=\"none\" stroke=\"#000000\" cx=\"197\" cy=\"-149\" rx=\"20.5982\" ry=\"20.5982\"/>\n<text text-anchor=\"middle\" x=\"197\" y=\"-145.3\" font-family=\"Times,serif\" font-size=\"14.00\" fill=\"#000000\">S2</text>\n</g>\n<!-- S3 -->\n<g id=\"node5\" class=\"node\">\n<title>S3</title>\n<ellipse fill=\"none\" stroke=\"#000000\" cx=\"291.7982\" cy=\"-236\" rx=\"20.5982\" ry=\"20.5982\"/>\n<text text-anchor=\"middle\" x=\"291.7982\" y=\"-232.3\" font-family=\"Times,serif\" font-size=\"14.00\" fill=\"#000000\">S3</text>\n</g>\n<!-- S2&#45;&gt;S3 -->\n<g id=\"edge8\" class=\"edge\">\n<title>S2&#45;&gt;S3</title>\n<path fill=\"none\" stroke=\"#000000\" d=\"M216.1221,-140.6018C227.6982,-136.8938 242.2509,-134.808 253,-142 273.8064,-155.9212 283.4669,-183.2598 287.9455,-204.881\"/>\n<polygon fill=\"#000000\" stroke=\"#000000\" points=\"284.5415,-205.7281 289.7539,-214.952 291.4313,-204.4908 284.5415,-205.7281\"/>\n<text text-anchor=\"middle\" x=\"245\" y=\"-160.8\" font-family=\"Times,serif\" font-size=\"14.00\" fill=\"#000000\">1 </text>\n<text text-anchor=\"middle\" x=\"245\" y=\"-145.8\" font-family=\"Times,serif\" font-size=\"14.00\" fill=\"#000000\"> 0 </text>\n</g>\n<!-- S0 -->\n<g id=\"node3\" class=\"node\">\n<title>S0</title>\n<ellipse fill=\"none\" stroke=\"#000000\" cx=\"197\" cy=\"-209\" rx=\"20.5982\" ry=\"20.5982\"/>\n<text text-anchor=\"middle\" x=\"197\" y=\"-205.3\" font-family=\"Times,serif\" font-size=\"14.00\" fill=\"#000000\">S0</text>\n</g>\n<!-- S0&#45;&gt;S3 -->\n<g id=\"edge6\" class=\"edge\">\n<title>S0&#45;&gt;S3</title>\n<path fill=\"none\" stroke=\"#000000\" d=\"M217.1043,-214.726C230.1754,-218.4489 247.4475,-223.3682 262.0899,-227.5386\"/>\n<polygon fill=\"#000000\" stroke=\"#000000\" points=\"261.1466,-230.9091 271.7229,-230.2822 263.0641,-224.1768 261.1466,-230.9091\"/>\n<text text-anchor=\"middle\" x=\"245\" y=\"-227.8\" font-family=\"Times,serif\" font-size=\"14.00\" fill=\"#000000\">0 </text>\n</g>\n<!-- S1 -->\n<g id=\"node6\" class=\"node\">\n<title>S1</title>\n<ellipse fill=\"none\" stroke=\"#000000\" cx=\"291.7982\" cy=\"-128\" rx=\"20.5982\" ry=\"20.5982\"/>\n<text text-anchor=\"middle\" x=\"291.7982\" y=\"-124.3\" font-family=\"Times,serif\" font-size=\"14.00\" fill=\"#000000\">S1</text>\n</g>\n<!-- S0&#45;&gt;S1 -->\n<g id=\"edge5\" class=\"edge\">\n<title>S0&#45;&gt;S1</title>\n<path fill=\"none\" stroke=\"#000000\" d=\"M216.0093,-199.9863C227.4045,-194.0707 241.8061,-185.6558 253,-176 260.6269,-169.4211 267.8838,-161.2019 274.0141,-153.434\"/>\n<polygon fill=\"#000000\" stroke=\"#000000\" points=\"276.9413,-155.3662 280.1882,-145.2811 271.3608,-151.1402 276.9413,-155.3662\"/>\n<text text-anchor=\"middle\" x=\"245\" y=\"-190.8\" font-family=\"Times,serif\" font-size=\"14.00\" fill=\"#000000\">1 </text>\n</g>\n<!-- I&#45;&gt;S2 -->\n<g id=\"edge2\" class=\"edge\">\n<title>I&#45;&gt;S2</title>\n<path fill=\"none\" stroke=\"#000000\" d=\"M127.2337,-149C138.3249,-149 152.7887,-149 165.6691,-149\"/>\n<polygon fill=\"#000000\" stroke=\"#000000\" points=\"166.0075,-152.5001 176.0074,-149 166.0074,-145.5001 166.0075,-152.5001\"/>\n<text text-anchor=\"middle\" x=\"151\" y=\"-152.8\" font-family=\"Times,serif\" font-size=\"14.00\" fill=\"#000000\">1 </text>\n</g>\n<!-- I&#45;&gt;S0 -->\n<g id=\"edge3\" class=\"edge\">\n<title>I&#45;&gt;S0</title>\n<path fill=\"none\" stroke=\"#000000\" d=\"M123.928,-159.1782C136.7994,-167.9541 155.6785,-180.8263 171.0225,-191.2881\"/>\n<polygon fill=\"#000000\" stroke=\"#000000\" points=\"169.3423,-194.3786 179.5762,-197.1202 173.2856,-188.595 169.3423,-194.3786\"/>\n<text text-anchor=\"middle\" x=\"151\" y=\"-183.8\" font-family=\"Times,serif\" font-size=\"14.00\" fill=\"#000000\">0 </text>\n</g>\n<!-- F -->\n<g id=\"node7\" class=\"node\">\n<title>F</title>\n<ellipse fill=\"none\" stroke=\"#000000\" cx=\"197\" cy=\"-22\" rx=\"18\" ry=\"18\"/>\n<ellipse fill=\"none\" stroke=\"#000000\" cx=\"197\" cy=\"-22\" rx=\"22\" ry=\"22\"/>\n<text text-anchor=\"middle\" x=\"197\" y=\"-18.3\" font-family=\"Times,serif\" font-size=\"14.00\" fill=\"#000000\">F</text>\n</g>\n<!-- I&#45;&gt;F -->\n<g id=\"edge4\" class=\"edge\">\n<title>I&#45;&gt;F</title>\n<path fill=\"none\" stroke=\"#000000\" d=\"M111.6818,-131.1831C115.6763,-109.9558 124.9837,-74.4268 145,-51 150.9363,-44.0523 158.9739,-38.4447 166.9536,-34.0803\"/>\n<polygon fill=\"#000000\" stroke=\"#000000\" points=\"168.7547,-37.0941 176.1651,-29.522 165.6501,-30.8202 168.7547,-37.0941\"/>\n<text text-anchor=\"middle\" x=\"151\" y=\"-54.8\" font-family=\"Times,serif\" font-size=\"14.00\" fill=\"#000000\">λ </text>\n</g>\n<!-- S3&#45;&gt;I -->\n<g id=\"edge9\" class=\"edge\">\n<title>S3&#45;&gt;I</title>\n<path fill=\"none\" stroke=\"#000000\" d=\"M271.8099,-242.2307C247.3727,-248.6206 205.5083,-255.5032 175,-239 149.2845,-225.0895 130.9541,-196.3101 120.2369,-175.0224\"/>\n<polygon fill=\"#000000\" stroke=\"#000000\" points=\"123.3216,-173.3601 115.8493,-165.8491 117.0068,-176.3805 123.3216,-173.3601\"/>\n<text text-anchor=\"middle\" x=\"197\" y=\"-267.8\" font-family=\"Times,serif\" font-size=\"14.00\" fill=\"#000000\">1 </text>\n<text text-anchor=\"middle\" x=\"197\" y=\"-252.8\" font-family=\"Times,serif\" font-size=\"14.00\" fill=\"#000000\"> 0 </text>\n</g>\n<!-- S1&#45;&gt;I -->\n<g id=\"edge7\" class=\"edge\">\n<title>S1&#45;&gt;I</title>\n<path fill=\"none\" stroke=\"#000000\" d=\"M274.9902,-114.9797C252.1391,-98.9539 210.0939,-75.4324 175,-89 155.4401,-96.562 138.1054,-112.9134 126.115,-126.6392\"/>\n<polygon fill=\"#000000\" stroke=\"#000000\" points=\"123.4162,-124.4106 119.6965,-134.331 128.7908,-128.8955 123.4162,-124.4106\"/>\n<text text-anchor=\"middle\" x=\"197\" y=\"-107.8\" font-family=\"Times,serif\" font-size=\"14.00\" fill=\"#000000\">1 </text>\n<text text-anchor=\"middle\" x=\"197\" y=\"-92.8\" font-family=\"Times,serif\" font-size=\"14.00\" fill=\"#000000\"> 0 </text>\n</g>\n</g>\n</svg>\n"
          },
          "metadata": {},
          "execution_count": 51
        }
      ],
      "source": [
        "dotObj_dfa(Even010, FuseEdges=True)"
      ]
    },
    {
      "cell_type": "markdown",
      "metadata": {
        "id": "tRUp06iNmIbX"
      },
      "source": [
        "###Part b: \n",
        " DFA animation: Animate the DFA you just built using the lists MustPassListOf5 and MustFailListOf5 defined below. Feed these one by one and run an animation. Leave the last frame of the animation, intact, so that we can grade easily.\n",
        "\n",
        " A common requirement for these random animations is to make them consist of strings of length at least 10 in both the \"MustPass\" and \"MustFail\" lists. \n",
        " \n",
        "__Why make them this long?__ The idea is to cover some tests beyond what Part-C might cover. (It is unlikely that Part-C will hit this length group, so you are trying to be very sure!)"
      ]
    },
    {
      "cell_type": "code",
      "source": [
        "from jove.AnimateDFA import *\n",
        "help(AnimateDFA)"
      ],
      "metadata": {
        "id": "6gGpFQ04pbKi",
        "colab": {
          "base_uri": "https://localhost:8080/"
        },
        "outputId": "cd7d06c4-f896-4b03-b9cc-be3f2a620e27"
      },
      "execution_count": 49,
      "outputs": [
        {
          "output_type": "stream",
          "name": "stdout",
          "text": [
            " \"help(AnimateDFA)\" gives you info on how to use animations with DFA \n",
            "Help on class AnimateDFA in module jove.AnimateDFA:\n",
            "\n",
            "class AnimateDFA(builtins.object)\n",
            " |  AnimateDFA(m_desc, FuseEdges=False, pick_start=False, max_width=10.0, accept_color='chartreuse3', reject_color='red', neutral_color='dodgerblue2')\n",
            " |  \n",
            " |  This is the DFA animation class.\n",
            " |  Call it with the DFA to be animated, and also FuseEdges=True/False\n",
            " |  to draw the DFA with edges either fused or not.\n",
            " |  For producing drawings in Colab, it is important to have these in\n",
            " |  every cell that calls animation.\n",
            " |  \n",
            " |  AnimateDFA(myDFA, FuseEdges='True/False')\n",
            " |  followed by\n",
            " |  display(HTML('<link rel=\"stylesheet\" href=\"//stackpath.bootstrapcdn.com/font-awesome/4.7.0/css/font-awesome.min.css\"/>'))\n",
            " |  \n",
            " |  Then the animation works in one's own install or Colab.\n",
            " |  \n",
            " |  Methods defined here:\n",
            " |  \n",
            " |  __init__(self, m_desc, FuseEdges=False, pick_start=False, max_width=10.0, accept_color='chartreuse3', reject_color='red', neutral_color='dodgerblue2')\n",
            " |      Initialize self.  See help(type(self)) for accurate signature.\n",
            " |  \n",
            " |  generate_animation(self, change)\n",
            " |  \n",
            " |  generate_feed(self, step)\n",
            " |  \n",
            " |  generate_machine_steps(self, step)\n",
            " |  \n",
            " |  on_backward_click(self, b)\n",
            " |  \n",
            " |  on_forward_click(self, b)\n",
            " |  \n",
            " |  on_input_change(self, change)\n",
            " |  \n",
            " |  on_play_step(self, change)\n",
            " |  \n",
            " |  on_speed_change(self, change)\n",
            " |  \n",
            " |  set_edge_display(self, src, dest, i, node, color)\n",
            " |  \n",
            " |  valid_user_input(self)\n",
            " |  \n",
            " |  ----------------------------------------------------------------------\n",
            " |  Data descriptors defined here:\n",
            " |  \n",
            " |  __dict__\n",
            " |      dictionary for instance variables (if defined)\n",
            " |  \n",
            " |  __weakref__\n",
            " |      list of weak references to the object (if defined)\n",
            "\n"
          ]
        }
      ]
    },
    {
      "cell_type": "markdown",
      "source": [
        "Note that each Animation must be done in a separate cell. The import can be in the first such cell.\n",
        "\n",
        "Then for each animation, have\n",
        "- AnimateDFA(...)\n",
        "- display(...)\n",
        "\n",
        "Repeat this cell for each animation so that you can leave the final screen intact."
      ],
      "metadata": {
        "id": "Dhb1vU8qw3P-"
      }
    },
    {
      "cell_type": "code",
      "source": [
        "from jove.AnimateDFA import *\n",
        "AnimateDFA(Even010, FuseEdges=False)\n",
        "\n",
        "##--- ***** 100% IMPORTANT : in any animation code cell, you must execute this as the last command - a Colab bug workaround **** ---##\n",
        "display(HTML('<link rel=\"stylesheet\" href=\"//stackpath.bootstrapcdn.com/font-awesome/4.7.0/css/font-awesome.min.css\"/>'))"
      ],
      "metadata": {
        "id": "_ECGm0u3pYPZ",
        "colab": {
          "base_uri": "https://localhost:8080/",
          "height": 606,
          "referenced_widgets": [
            "5727fb5babe94496bcdb8d2b6a5128f5",
            "f08d7a4a730844a8b6fb196b7d0b909b",
            "e77347e2c8e74ec38f94fbd1fa22d8ff",
            "ceb41486665c4c37a472f64a42344241",
            "5176d0c6991b40d282d9bb0ac4c7f1bc",
            "c5918e43707540429ca060c32ac3ddbc",
            "8a7ac2c8a4814b1da9cc92a0c178d8be",
            "643055948ebe4dfeb351f775f290407e",
            "b4f906c1448d416a959cd321421151ed",
            "c94d4a4f19c64c109751c1bf66476f3f",
            "501157a58fac4d96a5331180ec28e144",
            "faa0132d04824a489f9462e3c0b9f409",
            "f7fcd68b9a4d4146b2c457fac8a0bfc0",
            "3f4e8a2510cb425ca7298899a09c8847",
            "32271fcd73c04db3a89e120f438c01c6",
            "da917d5448f4442082720ef12e1c37d6",
            "a884b135659a4dceb5ed3978a4a2fa3e",
            "a2610a3f2e504604810336d112e8df45",
            "239366545e064e40981a607fa14fcb41",
            "9bd04166aeca4e5aa6f40f07b09dc8cd",
            "5aca828e84f94b4cbd17dbcbecc28e1f",
            "a73f79f636f34d038f15ac62a1d26309",
            "51488c980cb04ae896bda56be36b41be",
            "ad5b63a9413849248a46ee60f5d563e3",
            "1b9d203a57194fb4b4091ed38c265a7d",
            "f152c1e54c874106aff99ce9ea705656",
            "1a9ae78b4f8745ba8bd4c64eb336673d",
            "0fc238de8f2642d99dc38b311729fc32",
            "1a76a861b2a64be9a92438c985a16d49",
            "5b6028dfaed245d8b48d8ed9a2e8f24c"
          ]
        },
        "outputId": "be5662eb-0cc0-47ca-e25f-bf6b98f8357d"
      },
      "execution_count": 50,
      "outputs": [
        {
          "output_type": "display_data",
          "data": {
            "text/plain": [
              "VBox(children=(HBox(children=(Text(value='', description='Input:', layout=Layout(width='500px'), placeholder='…"
            ],
            "application/vnd.jupyter.widget-view+json": {
              "version_major": 2,
              "version_minor": 0,
              "model_id": "5727fb5babe94496bcdb8d2b6a5128f5"
            }
          },
          "metadata": {}
        },
        {
          "output_type": "display_data",
          "data": {
            "text/plain": [
              "<IPython.core.display.HTML object>"
            ],
            "text/html": [
              "<link rel=\"stylesheet\" href=\"//stackpath.bootstrapcdn.com/font-awesome/4.7.0/css/font-awesome.min.css\"/>"
            ]
          },
          "metadata": {}
        }
      ]
    },
    {
      "cell_type": "code",
      "source": [
        "MustPassListOf5 = [...] # define this\n",
        "\n",
        "#-- Now, perform an animation for these 5 tests, leaving the final animation frame intact for grading.\n",
        "#-- You must make the AnimateDFA call again and again, feeding a string from the above list, and leave the final result ready to view/grade\n",
        "#--- In all animation code-cells, include the above \"display\" line\n",
        "#--- Write down five acceptance tests in your own way, involving test strings of length at least 10.\n",
        "\n",
        "MustFailListOf5 = [...] # define this\n",
        "\n",
        "#-- Now, perform an animation for these 5 tests, leaving the final animation frame intact for grading.\n",
        "#-- You must make the AnimateDFA call again and again, feeding a string from the above list, and leave the final result ready to view/grade\n",
        "#--- In all animation code-cells, include the above \"display\" line\n",
        "#--- Write down five rejecting tests in your own way, involving test strings of length at least 10."
      ],
      "metadata": {
        "id": "eIr_wbXtmfnx"
      },
      "execution_count": null,
      "outputs": []
    },
    {
      "cell_type": "markdown",
      "metadata": {
        "id": "41LAbSa5kShR"
      },
      "source": [
        "###Part c: \n",
        " Testing the DFA systematically.\n",
        "\n",
        " __Systematic testing of any program consists of exhausting a space of small inputs first. Then you can test for some longer-length strings at random. Below, this opportunity is offered for you to practice!__"
      ]
    },
    {
      "cell_type": "code",
      "source": [
        "# Test the Even010 machine : The length of 2048 seems necessary to get far into the accepted list of strings\n",
        "\n",
        "from jove.LangDef import *\n",
        "TestStrings = [nthnumeric(i, ['0','1']) for i in range(2048)]\n",
        "\n",
        "# Now, generate a printout of all accepted strings\n",
        "\n",
        "[ (s, \"Accepted\") for s in TestStrings  if accepts_dfa(Even010, s)]\n",
        "\n"
      ],
      "metadata": {
        "id": "jeAuCKHxlMVn"
      },
      "execution_count": null,
      "outputs": []
    },
    {
      "cell_type": "markdown",
      "metadata": {
        "id": "X2tusIYEkYnw"
      },
      "source": [
        "###Part d: \n",
        "\n",
        "A few random tests of your own, and their test results, below, obtained by iterating through.\n",
        " "
      ]
    },
    {
      "cell_type": "code",
      "source": [
        "# Now, animate through the above lists of tests\n",
        "\n",
        "\n",
        "## -- defined earlier: MustPassListOf5 = [...]\n",
        "\n",
        "#-- Iterate thru the above, and get \"accept\". \n",
        "# Below, you may use the 'for' loop or the list(filter(...)) method\n",
        "\n",
        "... fill this part ...\n",
        "\n",
        "## -- defined earlier: MustFailListOf5 = [...]\n",
        "\n",
        "... fill this part ...\n",
        "\n",
        "#-- Iterate thru the above, and get \"reject\""
      ],
      "metadata": {
        "id": "DUNjICt2lieI"
      },
      "execution_count": null,
      "outputs": []
    },
    {
      "cell_type": "markdown",
      "metadata": {
        "id": "lc1br5awrXoB"
      },
      "source": [
        "###Part e: \n",
        "\n",
        "Comparison of testing methods and a few bullets of notes\n",
        " "
      ]
    },
    {
      "cell_type": "markdown",
      "source": [
        "In For_CS3100_Fall2022/00_Overview_Of_CS3100/Overview_Of_CS3100.ipynb, two other testing methods were introduced. Compare against the testing method offered to you  in Part C. Make observations on the stylistic differences of the code, and the way the test outcomes are shown.\n",
        "\n",
        "* ...\n",
        "* ...\n",
        "* ...\n",
        "* ...\n",
        " "
      ],
      "metadata": {
        "id": "vVRKa7oOj5ls"
      }
    },
    {
      "cell_type": "markdown",
      "metadata": {
        "id": "EIz5YWXVh3bh"
      },
      "source": [
        "## Question 3:"
      ]
    },
    {
      "cell_type": "markdown",
      "metadata": {
        "id": "DFpG_TxDiDnn"
      },
      "source": [
        "Using Jove's markdown, define a DFA for the language of strings over alphabet $\\{0,1\\}$ that ends in a $010$, calling it Ends010. Then obtain the intersection of Even010 and Ends010 DFA using intersect_dfa\n",
        "\n",
        "* Use the call intersect_dfa(Even010, Ends010) (not the arguments listed the other way)"
      ]
    },
    {
      "cell_type": "markdown",
      "metadata": {
        "id": "ORaIciQVr1dM"
      },
      "source": [
        "###Part a: \n",
        "Definition of Ends010 DFA"
      ]
    },
    {
      "cell_type": "code",
      "execution_count": 53,
      "metadata": {
        "id": "hGmeVbJ-jv4N"
      },
      "outputs": [],
      "source": [
        "Ends010 =  md2mc('''\n",
        "DFA\n",
        "\n",
        "I    : 1   -> S3      !! I goes to I upon 1\n",
        "\n",
        "I    : 0   -> S0  !! I goes to S0 and I upon 0\n",
        " \n",
        "S0    : 1   -> S2      !! I goes to I upon 1\n",
        "\n",
        "S0    : 0   -> S1  !! I goes to S0 and I upon 0\n",
        "\n",
        "S1    : 1   -> I      !! I goes to I upon 1\n",
        "\n",
        "S1    : 0   -> I  !! I goes to S0 and I upon 0\n",
        "\n",
        "S2    : 1   -> I      !! I goes to I upon 1\n",
        "\n",
        "S2    : 0   -> F  !! I goes to S0 and I upon 0\n",
        "\n",
        "S3    : 1   -> S4      !! I goes to I upon 1\n",
        "\n",
        "S3    : 0   -> S4  !! I goes to S0 and I upon 0\n",
        "\n",
        "S4    : 1   -> I      !! I goes to I upon 1\n",
        "\n",
        "S4    : 0   -> I  !! I goes to S0 and I upon 0\n",
        " \n",
        "''')"
      ]
    },
    {
      "cell_type": "code",
      "execution_count": 54,
      "metadata": {
        "id": "NfaJEGwKjx3Q",
        "colab": {
          "base_uri": "https://localhost:8080/",
          "height": 394
        },
        "outputId": "32437dfe-4194-40e9-9132-73bbaace25d4"
      },
      "outputs": [
        {
          "output_type": "execute_result",
          "data": {
            "text/plain": [
              "<graphviz.dot.Digraph at 0x7f8f55fc9f90>"
            ],
            "image/svg+xml": "<?xml version=\"1.0\" encoding=\"UTF-8\" standalone=\"no\"?>\n<!DOCTYPE svg PUBLIC \"-//W3C//DTD SVG 1.1//EN\"\n \"http://www.w3.org/Graphics/SVG/1.1/DTD/svg11.dtd\">\n<!-- Generated by graphviz version 2.40.1 (20161225.0304)\n -->\n<!-- Title: %3 Pages: 1 -->\n<svg width=\"410pt\" height=\"279pt\"\n viewBox=\"0.00 0.00 410.19 278.80\" xmlns=\"http://www.w3.org/2000/svg\" xmlns:xlink=\"http://www.w3.org/1999/xlink\">\n<g id=\"graph0\" class=\"graph\" transform=\"scale(1 1) rotate(0) translate(4 274.7982)\">\n<title>%3</title>\n<polygon fill=\"#ffffff\" stroke=\"transparent\" points=\"-4,4 -4,-274.7982 406.1926,-274.7982 406.1926,4 -4,4\"/>\n<!-- EMPTY -->\n<g id=\"node1\" class=\"node\">\n<title>EMPTY</title>\n</g>\n<!-- I -->\n<g id=\"node5\" class=\"node\">\n<title>I</title>\n<ellipse fill=\"none\" stroke=\"#000000\" cx=\"109\" cy=\"-143.7982\" rx=\"18\" ry=\"18\"/>\n<text text-anchor=\"middle\" x=\"109\" y=\"-140.0982\" font-family=\"Times,serif\" font-size=\"14.00\" fill=\"#000000\">I</text>\n</g>\n<!-- EMPTY&#45;&gt;I -->\n<g id=\"edge1\" class=\"edge\">\n<title>EMPTY&#45;&gt;I</title>\n<path fill=\"none\" stroke=\"#000000\" d=\"M54.3048,-143.7982C62.6909,-143.7982 71.9407,-143.7982 80.4103,-143.7982\"/>\n<polygon fill=\"#000000\" stroke=\"#000000\" points=\"80.5976,-147.2983 90.5976,-143.7982 80.5976,-140.2983 80.5976,-147.2983\"/>\n</g>\n<!-- S1 -->\n<g id=\"node2\" class=\"node\">\n<title>S1</title>\n<ellipse fill=\"none\" stroke=\"#000000\" cx=\"289.3945\" cy=\"-237.7982\" rx=\"20.5982\" ry=\"20.5982\"/>\n<text text-anchor=\"middle\" x=\"289.3945\" y=\"-234.0982\" font-family=\"Times,serif\" font-size=\"14.00\" fill=\"#000000\">S1</text>\n</g>\n<!-- S1&#45;&gt;I -->\n<g id=\"edge6\" class=\"edge\">\n<title>S1&#45;&gt;I</title>\n<path fill=\"none\" stroke=\"#000000\" d=\"M268.7752,-241.0801C244.542,-243.8514 203.9665,-245.0048 175,-227.7982 151.5679,-213.8791 133.2894,-188.2607 121.9691,-168.9612\"/>\n<polygon fill=\"#000000\" stroke=\"#000000\" points=\"124.9265,-167.0794 116.9787,-160.0734 118.8228,-170.5065 124.9265,-167.0794\"/>\n<text text-anchor=\"middle\" x=\"195.7982\" y=\"-259.5982\" font-family=\"Times,serif\" font-size=\"14.00\" fill=\"#000000\">1 </text>\n<text text-anchor=\"middle\" x=\"195.7982\" y=\"-244.5982\" font-family=\"Times,serif\" font-size=\"14.00\" fill=\"#000000\"> 0 </text>\n</g>\n<!-- S4 -->\n<g id=\"node3\" class=\"node\">\n<title>S4</title>\n<ellipse fill=\"none\" stroke=\"#000000\" cx=\"289.3945\" cy=\"-52.7982\" rx=\"20.5982\" ry=\"20.5982\"/>\n<text text-anchor=\"middle\" x=\"289.3945\" y=\"-49.0982\" font-family=\"Times,serif\" font-size=\"14.00\" fill=\"#000000\">S4</text>\n</g>\n<!-- S4&#45;&gt;I -->\n<g id=\"edge10\" class=\"edge\">\n<title>S4&#45;&gt;I</title>\n<path fill=\"none\" stroke=\"#000000\" d=\"M270.5586,-62.2999C237.9684,-78.74 171.0405,-112.5018 134.383,-130.9937\"/>\n<polygon fill=\"#000000\" stroke=\"#000000\" points=\"132.6789,-127.9331 125.327,-135.562 135.8317,-134.183 132.6789,-127.9331\"/>\n<text text-anchor=\"middle\" x=\"195.7982\" y=\"-128.5982\" font-family=\"Times,serif\" font-size=\"14.00\" fill=\"#000000\">1 </text>\n<text text-anchor=\"middle\" x=\"195.7982\" y=\"-113.5982\" font-family=\"Times,serif\" font-size=\"14.00\" fill=\"#000000\"> 0 </text>\n</g>\n<!-- S0 -->\n<g id=\"node4\" class=\"node\">\n<title>S0</title>\n<ellipse fill=\"none\" stroke=\"#000000\" cx=\"195.7982\" cy=\"-197.7982\" rx=\"20.5982\" ry=\"20.5982\"/>\n<text text-anchor=\"middle\" x=\"195.7982\" y=\"-194.0982\" font-family=\"Times,serif\" font-size=\"14.00\" fill=\"#000000\">S0</text>\n</g>\n<!-- S0&#45;&gt;S1 -->\n<g id=\"edge5\" class=\"edge\">\n<title>S0&#45;&gt;S1</title>\n<path fill=\"none\" stroke=\"#000000\" d=\"M215.1914,-206.0862C228.3684,-211.7176 246.0212,-219.2618 260.8029,-225.579\"/>\n<polygon fill=\"#000000\" stroke=\"#000000\" points=\"259.4552,-228.8093 270.0261,-229.5207 262.2061,-222.3724 259.4552,-228.8093\"/>\n<text text-anchor=\"middle\" x=\"242.5963\" y=\"-223.5982\" font-family=\"Times,serif\" font-size=\"14.00\" fill=\"#000000\">0 </text>\n</g>\n<!-- S2 -->\n<g id=\"node7\" class=\"node\">\n<title>S2</title>\n<ellipse fill=\"none\" stroke=\"#000000\" cx=\"289.3945\" cy=\"-160.7982\" rx=\"20.5982\" ry=\"20.5982\"/>\n<text text-anchor=\"middle\" x=\"289.3945\" y=\"-157.0982\" font-family=\"Times,serif\" font-size=\"14.00\" fill=\"#000000\">S2</text>\n</g>\n<!-- S0&#45;&gt;S2 -->\n<g id=\"edge4\" class=\"edge\">\n<title>S0&#45;&gt;S2</title>\n<path fill=\"none\" stroke=\"#000000\" d=\"M215.1914,-190.1317C228.2429,-184.9723 245.6853,-178.077 260.3798,-172.2681\"/>\n<polygon fill=\"#000000\" stroke=\"#000000\" points=\"262.0131,-175.386 270.0261,-168.4548 259.4396,-168.8762 262.0131,-175.386\"/>\n<text text-anchor=\"middle\" x=\"242.5963\" y=\"-184.5982\" font-family=\"Times,serif\" font-size=\"14.00\" fill=\"#000000\">1 </text>\n</g>\n<!-- I&#45;&gt;S0 -->\n<g id=\"edge3\" class=\"edge\">\n<title>I&#45;&gt;S0</title>\n<path fill=\"none\" stroke=\"#000000\" d=\"M124.5178,-153.4523C136.9552,-161.19 154.6905,-172.2237 169.3587,-181.3493\"/>\n<polygon fill=\"#000000\" stroke=\"#000000\" points=\"167.6807,-184.4274 178.0205,-186.7381 171.3785,-178.4838 167.6807,-184.4274\"/>\n<text text-anchor=\"middle\" x=\"151\" y=\"-175.5982\" font-family=\"Times,serif\" font-size=\"14.00\" fill=\"#000000\">0 </text>\n</g>\n<!-- S3 -->\n<g id=\"node6\" class=\"node\">\n<title>S3</title>\n<ellipse fill=\"none\" stroke=\"#000000\" cx=\"195.7982\" cy=\"-20.7982\" rx=\"20.5982\" ry=\"20.5982\"/>\n<text text-anchor=\"middle\" x=\"195.7982\" y=\"-17.0982\" font-family=\"Times,serif\" font-size=\"14.00\" fill=\"#000000\">S3</text>\n</g>\n<!-- I&#45;&gt;S3 -->\n<g id=\"edge2\" class=\"edge\">\n<title>I&#45;&gt;S3</title>\n<path fill=\"none\" stroke=\"#000000\" d=\"M111.9535,-125.773C116.146,-105.0985 125.5816,-71.1796 145,-48.7982 150.9291,-41.9643 158.9532,-36.4785 166.8716,-32.2362\"/>\n<polygon fill=\"#000000\" stroke=\"#000000\" points=\"168.5125,-35.3304 175.9866,-27.8211 165.461,-29.0306 168.5125,-35.3304\"/>\n<text text-anchor=\"middle\" x=\"151\" y=\"-52.5982\" font-family=\"Times,serif\" font-size=\"14.00\" fill=\"#000000\">1 </text>\n</g>\n<!-- S3&#45;&gt;S4 -->\n<g id=\"edge9\" class=\"edge\">\n<title>S3&#45;&gt;S4</title>\n<path fill=\"none\" stroke=\"#000000\" d=\"M216.4109,-24.5549C226.8203,-26.7355 239.5512,-29.8394 250.5963,-33.7982 254.1971,-35.0887 257.903,-36.6192 261.5292,-38.2427\"/>\n<polygon fill=\"#000000\" stroke=\"#000000\" points=\"260.281,-41.5246 270.8151,-42.6568 263.2862,-35.2025 260.281,-41.5246\"/>\n<text text-anchor=\"middle\" x=\"242.5963\" y=\"-52.5982\" font-family=\"Times,serif\" font-size=\"14.00\" fill=\"#000000\">1 </text>\n<text text-anchor=\"middle\" x=\"242.5963\" y=\"-37.5982\" font-family=\"Times,serif\" font-size=\"14.00\" fill=\"#000000\"> 0 </text>\n</g>\n<!-- S2&#45;&gt;I -->\n<g id=\"edge7\" class=\"edge\">\n<title>S2&#45;&gt;I</title>\n<path fill=\"none\" stroke=\"#000000\" d=\"M268.6991,-158.379C254.1378,-156.7124 234.1875,-154.5002 216.5963,-152.7982 189.7812,-150.2037 159.1629,-147.6858 137.463,-145.9761\"/>\n<polygon fill=\"#000000\" stroke=\"#000000\" points=\"137.5314,-142.4709 127.2894,-145.1824 136.9868,-149.4497 137.5314,-142.4709\"/>\n<text text-anchor=\"middle\" x=\"195.7982\" y=\"-156.5982\" font-family=\"Times,serif\" font-size=\"14.00\" fill=\"#000000\">1 </text>\n</g>\n<!-- F -->\n<g id=\"node8\" class=\"node\">\n<title>F</title>\n<ellipse fill=\"none\" stroke=\"#000000\" cx=\"380.1926\" cy=\"-160.7982\" rx=\"18\" ry=\"18\"/>\n<ellipse fill=\"none\" stroke=\"#000000\" cx=\"380.1926\" cy=\"-160.7982\" rx=\"22\" ry=\"22\"/>\n<text text-anchor=\"middle\" x=\"380.1926\" y=\"-157.0982\" font-family=\"Times,serif\" font-size=\"14.00\" fill=\"#000000\">F</text>\n</g>\n<!-- S2&#45;&gt;F -->\n<g id=\"edge8\" class=\"edge\">\n<title>S2&#45;&gt;F</title>\n<path fill=\"none\" stroke=\"#000000\" d=\"M310.4536,-160.7982C321.5861,-160.7982 335.4908,-160.7982 347.9489,-160.7982\"/>\n<polygon fill=\"#000000\" stroke=\"#000000\" points=\"347.9809,-164.2983 357.9809,-160.7982 347.9809,-157.2983 347.9809,-164.2983\"/>\n<text text-anchor=\"middle\" x=\"334.1926\" y=\"-164.5982\" font-family=\"Times,serif\" font-size=\"14.00\" fill=\"#000000\">0 </text>\n</g>\n</g>\n</svg>\n"
          },
          "metadata": {},
          "execution_count": 54
        }
      ],
      "source": [
        "# Let's see the \"Ends010\" machine\n",
        "dotObj_dfa(Ends010, FuseEdges=True)"
      ]
    },
    {
      "cell_type": "markdown",
      "metadata": {
        "id": "BT2DDD6lr8ym"
      },
      "source": [
        "###Part b: \n",
        "Computing the intersection with Even010"
      ]
    },
    {
      "cell_type": "code",
      "source": [],
      "metadata": {
        "id": "pvUXthRa5dWe"
      },
      "execution_count": null,
      "outputs": []
    },
    {
      "cell_type": "markdown",
      "metadata": {
        "id": "vBBic_Luefyn"
      },
      "source": [
        "Now, obtain the intersection of Even010 (the DFA obtained in Question 2) and Ends010 using the function *intersect_dfa*. Obtain a description of this algorithm first."
      ]
    },
    {
      "cell_type": "code",
      "execution_count": 55,
      "metadata": {
        "id": "-wPCk85IkBkS",
        "colab": {
          "base_uri": "https://localhost:8080/"
        },
        "outputId": "f1726572-031d-470d-e6a8-4090de093470"
      },
      "outputs": [
        {
          "output_type": "stream",
          "name": "stdout",
          "text": [
            "Help on function intersect_dfa in module jove.Def_DFA:\n",
            "\n",
            "intersect_dfa(D1in, D2in, flatten_states=False)\n",
            "    In : D1in (consistent DFA)\n",
            "         D2in (consistent DFA)\n",
            "         If flatten_states (Boolean), it turns paired states into string    \n",
            "    Out: DFA for language intersection of D1in, D2in (consistent DFA).\n",
            "\n"
          ]
        }
      ],
      "source": [
        "# Use this method to get the intersection of the two DFAs\n",
        "help(intersect_dfa)"
      ]
    },
    {
      "cell_type": "markdown",
      "metadata": {
        "id": "xPL6Grvrefyo"
      },
      "source": [
        "Now, go ahead and obtain the intersection"
      ]
    },
    {
      "cell_type": "code",
      "execution_count": 57,
      "metadata": {
        "id": "mxI6vihJefyo",
        "colab": {
          "base_uri": "https://localhost:8080/",
          "height": 356
        },
        "outputId": "e8518ca2-aa31-49a1-d079-3c971059bfbd"
      },
      "outputs": [
        {
          "output_type": "error",
          "ename": "AssertionError",
          "evalue": "ignored",
          "traceback": [
            "\u001b[0;31m---------------------------------------------------------------------------\u001b[0m",
            "\u001b[0;31mAssertionError\u001b[0m                            Traceback (most recent call last)",
            "\u001b[0;32m<ipython-input-57-7bc6153692d1>\u001b[0m in \u001b[0;36m<module>\u001b[0;34m\u001b[0m\n\u001b[1;32m      4\u001b[0m \u001b[0;31m#!\u001b[0m\u001b[0;34m\u001b[0m\u001b[0;34m\u001b[0m\u001b[0;34m\u001b[0m\u001b[0m\n\u001b[1;32m      5\u001b[0m \u001b[0;34m\u001b[0m\u001b[0m\n\u001b[0;32m----> 6\u001b[0;31m \u001b[0mEven010_Ends010\u001b[0m \u001b[0;34m=\u001b[0m \u001b[0mintersect_dfa\u001b[0m\u001b[0;34m(\u001b[0m\u001b[0mEven010\u001b[0m\u001b[0;34m,\u001b[0m \u001b[0mEnds010\u001b[0m\u001b[0;34m,\u001b[0m \u001b[0mflatten_states\u001b[0m \u001b[0;34m=\u001b[0m \u001b[0;32mFalse\u001b[0m\u001b[0;34m)\u001b[0m\u001b[0;34m\u001b[0m\u001b[0;34m\u001b[0m\u001b[0m\n\u001b[0m\u001b[1;32m      7\u001b[0m \u001b[0;34m\u001b[0m\u001b[0m\n\u001b[1;32m      8\u001b[0m \u001b[0mdotObj_dfa\u001b[0m\u001b[0;34m(\u001b[0m\u001b[0mEven010_Ends010\u001b[0m\u001b[0;34m)\u001b[0m \u001b[0;31m# Let's look at the resulting DFA\u001b[0m\u001b[0;34m\u001b[0m\u001b[0;34m\u001b[0m\u001b[0m\n",
            "\u001b[0;32m/content/Jove/jove/Def_DFA.py\u001b[0m in \u001b[0;36mintersect_dfa\u001b[0;34m(D1in, D2in, flatten_states)\u001b[0m\n\u001b[1;32m    351\u001b[0m        \u001b[0mOut\u001b[0m\u001b[0;34m:\u001b[0m \u001b[0mDFA\u001b[0m \u001b[0;32mfor\u001b[0m \u001b[0mlanguage\u001b[0m \u001b[0mintersection\u001b[0m \u001b[0mof\u001b[0m \u001b[0mD1in\u001b[0m\u001b[0;34m,\u001b[0m \u001b[0mD2in\u001b[0m \u001b[0;34m(\u001b[0m\u001b[0mconsistent\u001b[0m \u001b[0mDFA\u001b[0m\u001b[0;34m)\u001b[0m\u001b[0;34m.\u001b[0m\u001b[0;34m\u001b[0m\u001b[0;34m\u001b[0m\u001b[0m\n\u001b[1;32m    352\u001b[0m     \"\"\"\n\u001b[0;32m--> 353\u001b[0;31m     \u001b[0;32massert\u001b[0m\u001b[0;34m(\u001b[0m\u001b[0mis_consistent_dfa\u001b[0m\u001b[0;34m(\u001b[0m\u001b[0mD1in\u001b[0m\u001b[0;34m)\u001b[0m\u001b[0;34m)\u001b[0m\u001b[0;34m,\u001b[0m \u001b[0;34m\"Inconsist. DFA1 in intersect_dfa\"\u001b[0m\u001b[0;34m\u001b[0m\u001b[0;34m\u001b[0m\u001b[0m\n\u001b[0m\u001b[1;32m    354\u001b[0m     \u001b[0;32massert\u001b[0m\u001b[0;34m(\u001b[0m\u001b[0mis_consistent_dfa\u001b[0m\u001b[0;34m(\u001b[0m\u001b[0mD2in\u001b[0m\u001b[0;34m)\u001b[0m\u001b[0;34m)\u001b[0m\u001b[0;34m,\u001b[0m \u001b[0;34m\"Inconsist. DFA2 in intersect_dfa\"\u001b[0m\u001b[0;34m\u001b[0m\u001b[0;34m\u001b[0m\u001b[0m\n\u001b[1;32m    355\u001b[0m     \u001b[0;32mif\u001b[0m \u001b[0;34m(\u001b[0m\u001b[0mD1in\u001b[0m\u001b[0;34m[\u001b[0m\u001b[0;34m\"Sigma\"\u001b[0m\u001b[0;34m]\u001b[0m \u001b[0;34m!=\u001b[0m \u001b[0mD2in\u001b[0m\u001b[0;34m[\u001b[0m\u001b[0;34m\"Sigma\"\u001b[0m\u001b[0;34m]\u001b[0m\u001b[0;34m)\u001b[0m\u001b[0;34m:\u001b[0m\u001b[0;34m\u001b[0m\u001b[0;34m\u001b[0m\u001b[0m\n",
            "\u001b[0;31mAssertionError\u001b[0m: Inconsist. DFA1 in intersect_dfa"
          ]
        }
      ],
      "source": [
        "# FEED Even010 as the first argument and Ends010 as the second argument\n",
        "\n",
        "#? Even010_Ends010 = ...obtain the intersection asked ... \n",
        "#!\n",
        "\n",
        "Even010_Ends010 = intersect_dfa(Even010, Ends010, flatten_states = False)\n",
        "\n",
        "dotObj_dfa(Even010_Ends010) # Let's look at the resulting DFA"
      ]
    },
    {
      "cell_type": "markdown",
      "metadata": {
        "id": "5pgoc6sfsENd"
      },
      "source": [
        "###Part c: \n",
        "Minimizing the intersection"
      ]
    },
    {
      "cell_type": "markdown",
      "metadata": {
        "id": "PO_nCWofefyo"
      },
      "source": [
        "Now, minimize the intersection machine using another Jove function called *min_dfa*. Obtain its documentation first. "
      ]
    },
    {
      "cell_type": "code",
      "execution_count": null,
      "metadata": {
        "id": "tTFHSPo2efyo"
      },
      "outputs": [],
      "source": [
        "help(min_dfa)"
      ]
    },
    {
      "cell_type": "markdown",
      "metadata": {
        "id": "nHphGthFefyp"
      },
      "source": [
        "Now minimize Even010_Ends010, calling it min_Even010_Ends010 and look at the DFA also"
      ]
    },
    {
      "cell_type": "code",
      "execution_count": null,
      "metadata": {
        "id": "YfYJHt4kefyp"
      },
      "outputs": [],
      "source": [
        "#? min_Even010_Ends010 =  ... # ... Use min_dfa - help(min_dfa) for guidance ...\n",
        "\n",
        "min_Even010_Ends010 = ...\n",
        "\n",
        "dotObj_dfa(min_Even010_Ends010)"
      ]
    },
    {
      "cell_type": "markdown",
      "metadata": {
        "id": "jxaGha97efyp"
      },
      "source": [
        "This is the end of this question. You'll be analyzing min_Even010_Ends010 in the following question."
      ]
    },
    {
      "cell_type": "markdown",
      "metadata": {
        "id": "EUqUhge-kM4A"
      },
      "source": [
        "## Question 4:"
      ]
    },
    {
      "cell_type": "markdown",
      "metadata": {
        "id": "pTh3xAdTlDlX"
      },
      "source": [
        "Find out which states were eliminated in the Minimization Process. Explain why it was OK to leave these states out. Test the constructed machine using the template given to you. Finally use the Python \"filter\" function that filters out the accepted strings. These are broken down into steps __a__ through __f__, below."
      ]
    },
    {
      "cell_type": "markdown",
      "metadata": {
        "id": "GbC9BfoHlI9h"
      },
      "source": [
        "### Step a: Write Python code to find out which states were eliminated:"
      ]
    },
    {
      "cell_type": "code",
      "source": [
        "Original = Even010_Ends010[\"Q\"]"
      ],
      "metadata": {
        "id": "IYPtBRk4PWaR"
      },
      "execution_count": null,
      "outputs": []
    },
    {
      "cell_type": "code",
      "source": [
        "Minimized = ..."
      ],
      "metadata": {
        "id": "xlhpjLO1q9Ew"
      },
      "execution_count": null,
      "outputs": []
    },
    {
      "cell_type": "code",
      "source": [
        "# Write an expression for the states missed\n",
        "Original - Minimized"
      ],
      "metadata": {
        "id": "JBg2SYIvsYsE"
      },
      "execution_count": null,
      "outputs": []
    },
    {
      "cell_type": "markdown",
      "metadata": {
        "id": "a8fbUtbzlMf-"
      },
      "source": [
        "Hint: You can obtain the components of a DFA D by using the notation D[\"Q\"] where\n",
        "\n",
        "D is a DFA created using the md2mc command. Basically, \"D\" is a dictionary and D[\"Q\"] obtains the value of the key at \"Q\". \n",
        "\n",
        "Just try running a cell containing Even010_Ends010[\"Q\"] \n",
        "and you will see the states of this DFA being listed. Then you\n",
        "can do this for min_Even010_Ends010 also"
      ]
    },
    {
      "cell_type": "markdown",
      "metadata": {
        "id": "VCr5BDfulhiV"
      },
      "source": [
        "### Step b: Explain why it is OK to leave these states out. \n",
        "\n",
        "Here is how you must form your answer in the \"Answer\"\" field below that you must submit:\n",
        "\n",
        "* **Pick the first state**  in \"Original - Minimized\" (call it  __S1__). This is the first state in Even010_Ends010 that is found missing in min_Even010_Ends010.  **Depending on how Python hashes, this first state may vary run-to-run. That is OK. Settle on one! **\n",
        "\n",
        "* Now you want to argue that min_Even010_Ends010 is still correct. Proceed as follows.\n",
        "\n",
        "* Find the shortest string, w,  in numeric order that reached __S1__ in Even010_Ends010\n",
        "\n",
        "* Find the state that the same string w reaches in min_Even010_Ends010. Call that __S2__\n",
        "\n",
        "* Since the DFA was correctly minimized, it must be the case that __S1__ and __S2__ are equivalent. Let us spot-check that this state equivalence holds.\n",
        "\n",
        "* Note down the states that  __S1__ reaches on a $0$ and a $1$, respectively. Call those states __S10__ and __S11__ .\n",
        "\n",
        "* Note down the states that  __S2__ reaches on a $0$ and a $1$, respectively. Call those states __S20__ and __S21__ .\n",
        "\n",
        "* It must be the case that __S10__ is accepting iff __S20__ is accepting. \n",
        "\n",
        "* Likewise, __S11__ is accepting iff __S21__ is accepting."
      ]
    },
    {
      "cell_type": "code",
      "source": [
        "from google.colab import drive\n",
        "drive.mount('/content/drive')"
      ],
      "metadata": {
        "id": "EfNeWPhx5E1C"
      },
      "execution_count": null,
      "outputs": []
    },
    {
      "cell_type": "markdown",
      "metadata": {
        "id": "TWSgWzxDlrU7"
      },
      "source": [
        "**Answer:**  Answer by editing these lines as per your machine:\n",
        "\n",
        "* I find that state S1 is in Even010_Ends010 but is missing in min_Even010_Ends010 (edit as necessary to put in the __actual__ state name that is found in the former but missing in the latter state.)\n",
        "\n",
        "* I find that the shortest string, w, reaching S1 is w: (edit-in the actual string, in place of string w)\n",
        "\n",
        "* Now I find that the same w reaches state S2 in min_Even010_Ends010 : (edit-in the actual state name in place of S2)\n",
        "\n",
        "* Now upon 0, S1 goes to state S10 while S2 goes to S20, and they are both accepting/non-accepting:  (edit-in the actual states S10 and S20, and indicate whether they are both accepting---or they are both non-accepting)\n",
        "\n",
        "* Upon a 1, S1 goes to S11 while S21 goes to S21 and they are both accepting/non-accepting:  (edit-in the actual states S11 and S21, and indicate whether they are both accepting---or they are both non-accepting)\n",
        "\n",
        "* Thus I have spot-checked that the minimized machine is correctly produced.\n",
        "\n"
      ]
    },
    {
      "cell_type": "markdown",
      "source": [],
      "metadata": {
        "id": "Znnp3fxYttki"
      }
    },
    {
      "cell_type": "markdown",
      "metadata": {
        "id": "f2-TQO36qw8M"
      },
      "source": [
        "# END"
      ]
    }
  ],
  "metadata": {
    "colab": {
      "provenance": [],
      "collapsed_sections": [],
      "include_colab_link": true
    },
    "kernelspec": {
      "display_name": "Python 3",
      "language": "python",
      "name": "python3"
    },
    "language_info": {
      "codemirror_mode": {
        "name": "ipython",
        "version": 3
      },
      "file_extension": ".py",
      "mimetype": "text/x-python",
      "name": "python",
      "nbconvert_exporter": "python",
      "pygments_lexer": "ipython3",
      "version": "3.8.5"
    },
    "widgets": {
      "application/vnd.jupyter.widget-state+json": {
        "5727fb5babe94496bcdb8d2b6a5128f5": {
          "model_module": "@jupyter-widgets/controls",
          "model_name": "VBoxModel",
          "model_module_version": "1.5.0",
          "state": {
            "_dom_classes": [],
            "_model_module": "@jupyter-widgets/controls",
            "_model_module_version": "1.5.0",
            "_model_name": "VBoxModel",
            "_view_count": null,
            "_view_module": "@jupyter-widgets/controls",
            "_view_module_version": "1.5.0",
            "_view_name": "VBoxView",
            "box_style": "",
            "children": [
              "IPY_MODEL_f08d7a4a730844a8b6fb196b7d0b909b",
              "IPY_MODEL_e77347e2c8e74ec38f94fbd1fa22d8ff",
              "IPY_MODEL_ceb41486665c4c37a472f64a42344241",
              "IPY_MODEL_5176d0c6991b40d282d9bb0ac4c7f1bc",
              "IPY_MODEL_c5918e43707540429ca060c32ac3ddbc"
            ],
            "layout": "IPY_MODEL_8a7ac2c8a4814b1da9cc92a0c178d8be"
          }
        },
        "f08d7a4a730844a8b6fb196b7d0b909b": {
          "model_module": "@jupyter-widgets/controls",
          "model_name": "HBoxModel",
          "model_module_version": "1.5.0",
          "state": {
            "_dom_classes": [],
            "_model_module": "@jupyter-widgets/controls",
            "_model_module_version": "1.5.0",
            "_model_name": "HBoxModel",
            "_view_count": null,
            "_view_module": "@jupyter-widgets/controls",
            "_view_module_version": "1.5.0",
            "_view_name": "HBoxView",
            "box_style": "",
            "children": [
              "IPY_MODEL_643055948ebe4dfeb351f775f290407e",
              "IPY_MODEL_b4f906c1448d416a959cd321421151ed"
            ],
            "layout": "IPY_MODEL_c94d4a4f19c64c109751c1bf66476f3f"
          }
        },
        "e77347e2c8e74ec38f94fbd1fa22d8ff": {
          "model_module": "@jupyter-widgets/output",
          "model_name": "OutputModel",
          "model_module_version": "1.0.0",
          "state": {
            "_dom_classes": [],
            "_model_module": "@jupyter-widgets/output",
            "_model_module_version": "1.0.0",
            "_model_name": "OutputModel",
            "_view_count": null,
            "_view_module": "@jupyter-widgets/output",
            "_view_module_version": "1.0.0",
            "_view_name": "OutputView",
            "layout": "IPY_MODEL_0fc238de8f2642d99dc38b311729fc32",
            "msg_id": "",
            "outputs": [
              {
                "output_type": "display_data",
                "data": {
                  "text/plain": "<graphviz.files.Source at 0x7f8f56082a90>",
                  "image/svg+xml": "<?xml version=\"1.0\" encoding=\"UTF-8\" standalone=\"no\"?>\n<!DOCTYPE svg PUBLIC \"-//W3C//DTD SVG 1.1//EN\"\n \"http://www.w3.org/Graphics/SVG/1.1/DTD/svg11.dtd\">\n<!-- Generated by graphviz version 2.40.1 (20161225.0304)\n -->\n<!-- Title: %3 Pages: 1 -->\n<svg width=\"413pt\" height=\"340pt\"\n viewBox=\"0.00 0.00 412.69 339.80\" xmlns=\"http://www.w3.org/2000/svg\" xmlns:xlink=\"http://www.w3.org/1999/xlink\">\n<g id=\"graph0\" class=\"graph\" transform=\"scale(1 1) rotate(0) translate(4 335.7982)\">\n<title>%3</title>\n<polygon fill=\"#ffffff\" stroke=\"transparent\" points=\"-4,4 -4,-335.7982 408.692,-335.7982 408.692,4 -4,4\"/>\n<!-- EMPTY -->\n<g id=\"node1\" class=\"node\">\n<title>EMPTY</title>\n</g>\n<!-- I -->\n<g id=\"node4\" class=\"node\">\n<title>I</title>\n<ellipse fill=\"none\" stroke=\"#000000\" cx=\"109\" cy=\"-146\" rx=\"18\" ry=\"18\"/>\n<text text-anchor=\"middle\" x=\"109\" y=\"-142.3\" font-family=\"Times,serif\" font-size=\"14.00\" fill=\"#000000\">I</text>\n</g>\n<!-- EMPTY&#45;&gt;I -->\n<g id=\"edge1\" class=\"edge\">\n<title>EMPTY&#45;&gt;I</title>\n<path fill=\"none\" stroke=\"#000000\" d=\"M54.3048,-146C62.6909,-146 71.9407,-146 80.4103,-146\"/>\n<polygon fill=\"#000000\" stroke=\"#000000\" points=\"80.5976,-149.5001 90.5976,-146 80.5976,-142.5001 80.5976,-149.5001\"/>\n</g>\n<!-- S2 -->\n<g id=\"node2\" class=\"node\">\n<title>S2</title>\n<ellipse fill=\"none\" stroke=\"#000000\" cx=\"195.7982\" cy=\"-311\" rx=\"20.5982\" ry=\"20.5982\"/>\n<text text-anchor=\"middle\" x=\"195.7982\" y=\"-307.3\" font-family=\"Times,serif\" font-size=\"14.00\" fill=\"#000000\">S2</text>\n</g>\n<!-- BH -->\n<g id=\"node5\" class=\"node\">\n<title>BH</title>\n<ellipse fill=\"none\" stroke=\"#000000\" cx=\"380.6442\" cy=\"-123\" rx=\"24.0958\" ry=\"24.0958\"/>\n<text text-anchor=\"middle\" x=\"380.6442\" y=\"-119.3\" font-family=\"Times,serif\" font-size=\"14.00\" fill=\"#000000\">BH</text>\n</g>\n<!-- S2&#45;&gt;BH -->\n<g id=\"edge13\" class=\"edge\">\n<title>S2&#45;&gt;BH</title>\n<path fill=\"none\" stroke=\"#000000\" d=\"M215.6887,-317.1401C225.3175,-319.0779 236.8701,-319.8402 246.5963,-316 281.6931,-302.1429 285.6264,-287.9364 308.5963,-258 333.4787,-225.5712 354.4767,-183.3584 367.2715,-154.8361\"/>\n<polygon fill=\"#000000\" stroke=\"#000000\" points=\"370.6189,-155.9191 371.448,-145.3568 364.2131,-153.0967 370.6189,-155.9191\"/>\n<text text-anchor=\"start\" x=\"281.0963\" y=\"-310.8\" font-family=\"Times,serif\" font-size=\"14.00\" fill=\"#000000\"> λ</text>\n</g>\n<!-- S3 -->\n<g id=\"node6\" class=\"node\">\n<title>S3</title>\n<ellipse fill=\"none\" stroke=\"#000000\" cx=\"286.5963\" cy=\"-228\" rx=\"20.5982\" ry=\"20.5982\"/>\n<text text-anchor=\"middle\" x=\"286.5963\" y=\"-224.3\" font-family=\"Times,serif\" font-size=\"14.00\" fill=\"#000000\">S3</text>\n</g>\n<!-- S2&#45;&gt;S3 -->\n<g id=\"edge9\" class=\"edge\">\n<title>S2&#45;&gt;S3</title>\n<path fill=\"none\" stroke=\"#000000\" d=\"M216.1279,-305.7254C226.0888,-302.4053 237.8003,-297.3327 246.5963,-290 257.5431,-280.8743 266.5301,-267.9703 273.1931,-256.2956\"/>\n<polygon fill=\"#000000\" stroke=\"#000000\" points=\"276.3808,-257.7576 278.0314,-247.2921 270.2147,-254.444 276.3808,-257.7576\"/>\n<text text-anchor=\"start\" x=\"234.5963\" y=\"-300.8\" font-family=\"Times,serif\" font-size=\"14.00\" fill=\"#000000\"> 1</text>\n</g>\n<!-- S2&#45;&gt;S3 -->\n<g id=\"edge10\" class=\"edge\">\n<title>S2&#45;&gt;S3</title>\n<path fill=\"none\" stroke=\"#000000\" d=\"M210.1557,-295.414C217.3125,-287.8501 226.2108,-278.7464 234.5963,-271 243.2039,-263.0485 253.0243,-254.7457 261.7953,-247.5801\"/>\n<polygon fill=\"#000000\" stroke=\"#000000\" points=\"264.2292,-250.1134 269.8094,-241.1072 259.8308,-244.6678 264.2292,-250.1134\"/>\n<text text-anchor=\"start\" x=\"234.5963\" y=\"-274.8\" font-family=\"Times,serif\" font-size=\"14.00\" fill=\"#000000\"> 0</text>\n</g>\n<!-- S0 -->\n<g id=\"node3\" class=\"node\">\n<title>S0</title>\n<ellipse fill=\"none\" stroke=\"#000000\" cx=\"195.7982\" cy=\"-146\" rx=\"20.5982\" ry=\"20.5982\"/>\n<text text-anchor=\"middle\" x=\"195.7982\" y=\"-142.3\" font-family=\"Times,serif\" font-size=\"14.00\" fill=\"#000000\">S0</text>\n</g>\n<!-- S0&#45;&gt;BH -->\n<g id=\"edge14\" class=\"edge\">\n<title>S0&#45;&gt;BH</title>\n<path fill=\"none\" stroke=\"#000000\" d=\"M216.643,-143.4063C248.2302,-139.476 308.5583,-131.9695 346.582,-127.2383\"/>\n<polygon fill=\"#000000\" stroke=\"#000000\" points=\"347.1814,-130.6908 356.6727,-125.9827 346.317,-123.7443 347.1814,-130.6908\"/>\n<text text-anchor=\"start\" x=\"281.0963\" y=\"-140.8\" font-family=\"Times,serif\" font-size=\"14.00\" fill=\"#000000\"> λ</text>\n</g>\n<!-- S0&#45;&gt;S3 -->\n<g id=\"edge6\" class=\"edge\">\n<title>S0&#45;&gt;S3</title>\n<path fill=\"none\" stroke=\"#000000\" d=\"M212.6834,-158.8124C222.7711,-166.665 235.7004,-177.0829 246.5963,-187 252.8015,-192.6478 259.2616,-199.0265 265.1344,-205.0408\"/>\n<polygon fill=\"#000000\" stroke=\"#000000\" points=\"262.7408,-207.6011 272.1959,-212.3815 267.7856,-202.7482 262.7408,-207.6011\"/>\n<text text-anchor=\"start\" x=\"234.5963\" y=\"-190.8\" font-family=\"Times,serif\" font-size=\"14.00\" fill=\"#000000\"> 0</text>\n</g>\n<!-- S1 -->\n<g id=\"node7\" class=\"node\">\n<title>S1</title>\n<ellipse fill=\"none\" stroke=\"#000000\" cx=\"286.5963\" cy=\"-93\" rx=\"20.5982\" ry=\"20.5982\"/>\n<text text-anchor=\"middle\" x=\"286.5963\" y=\"-89.3\" font-family=\"Times,serif\" font-size=\"14.00\" fill=\"#000000\">S1</text>\n</g>\n<!-- S0&#45;&gt;S1 -->\n<g id=\"edge5\" class=\"edge\">\n<title>S0&#45;&gt;S1</title>\n<path fill=\"none\" stroke=\"#000000\" d=\"M214.1725,-135.2747C227.3039,-127.6097 245.1778,-117.1765 259.8832,-108.5928\"/>\n<polygon fill=\"#000000\" stroke=\"#000000\" points=\"261.6872,-111.5924 268.5591,-103.5285 258.1583,-105.547 261.6872,-111.5924\"/>\n<text text-anchor=\"start\" x=\"234.5963\" y=\"-125.8\" font-family=\"Times,serif\" font-size=\"14.00\" fill=\"#000000\"> 1</text>\n</g>\n<!-- I&#45;&gt;S2 -->\n<g id=\"edge2\" class=\"edge\">\n<title>I&#45;&gt;S2</title>\n<path fill=\"none\" stroke=\"#000000\" d=\"M111.0117,-163.9044C114.5156,-188.9507 123.5356,-235.0692 145,-268 151.473,-277.9309 160.9163,-286.8081 169.9095,-293.8812\"/>\n<polygon fill=\"#000000\" stroke=\"#000000\" points=\"167.829,-296.6957 177.944,-299.8482 172.0027,-291.076 167.829,-296.6957\"/>\n<text text-anchor=\"start\" x=\"145\" y=\"-284.8\" font-family=\"Times,serif\" font-size=\"14.00\" fill=\"#000000\"> 1</text>\n</g>\n<!-- I&#45;&gt;S0 -->\n<g id=\"edge3\" class=\"edge\">\n<title>I&#45;&gt;S0</title>\n<path fill=\"none\" stroke=\"#000000\" d=\"M127.4077,-146C138.2934,-146 152.3613,-146 164.9052,-146\"/>\n<polygon fill=\"#000000\" stroke=\"#000000\" points=\"164.9803,-149.5001 174.9802,-146 164.9802,-142.5001 164.9803,-149.5001\"/>\n<text text-anchor=\"start\" x=\"145\" y=\"-149.8\" font-family=\"Times,serif\" font-size=\"14.00\" fill=\"#000000\"> 0</text>\n</g>\n<!-- F -->\n<g id=\"node8\" class=\"node\">\n<title>F</title>\n<ellipse fill=\"#66cd00\" stroke=\"#000000\" cx=\"286.5963\" cy=\"-22\" rx=\"18\" ry=\"18\"/>\n<ellipse fill=\"none\" stroke=\"#000000\" cx=\"286.5963\" cy=\"-22\" rx=\"22\" ry=\"22\"/>\n<text text-anchor=\"middle\" x=\"286.5963\" y=\"-18.3\" font-family=\"Times,serif\" font-size=\"14.00\" fill=\"#ffffff\">F</text>\n</g>\n<!-- I&#45;&gt;F -->\n<g id=\"edge4\" class=\"edge\">\n<title>I&#45;&gt;F</title>\n<path fill=\"none\" stroke=\"#000000\" d=\"M115.191,-128.7172C124.356,-105.9725 143.8821,-66.7998 175,-49 199.4576,-35.01 230.9293,-28.2377 254.2129,-24.9777\"/>\n<polygon fill=\"#000000\" stroke=\"#000000\" points=\"254.7939,-28.4323 264.28,-23.7137 253.9218,-21.4868 254.7939,-28.4323\"/>\n<text text-anchor=\"start\" x=\"190.2982\" y=\"-52.8\" font-family=\"Times,serif\" font-size=\"14.00\" fill=\"#000000\"> λ</text>\n</g>\n<!-- BH&#45;&gt;BH -->\n<g id=\"edge20\" class=\"edge\">\n<title>BH&#45;&gt;BH</title>\n<path fill=\"none\" stroke=\"#000000\" d=\"M377.6625,-147.1972C377.494,-156.9021 378.4879,-165.0479 380.6442,-165.0479 381.9581,-165.0479 382.8405,-162.023 383.2912,-157.4638\"/>\n<polygon fill=\"#000000\" stroke=\"#000000\" points=\"386.7981,-157.306 383.6259,-147.1972 379.8018,-157.0778 386.7981,-157.306\"/>\n<text text-anchor=\"start\" x=\"375.1442\" y=\"-168.8479\" font-family=\"Times,serif\" font-size=\"14.00\" fill=\"#000000\"> λ</text>\n</g>\n<!-- BH&#45;&gt;BH -->\n<g id=\"edge21\" class=\"edge\">\n<title>BH&#45;&gt;BH</title>\n<path fill=\"none\" stroke=\"#000000\" d=\"M375.3858,-146.7342C373.4851,-164.7661 375.2379,-183.0479 380.6442,-183.0479 385.0368,-183.0479 387.0175,-170.979 386.5864,-156.7814\"/>\n<polygon fill=\"#000000\" stroke=\"#000000\" points=\"390.0736,-156.4735 385.9026,-146.7342 383.0898,-156.9488 390.0736,-156.4735\"/>\n<text text-anchor=\"start\" x=\"374.6442\" y=\"-186.8479\" font-family=\"Times,serif\" font-size=\"14.00\" fill=\"#000000\"> 1</text>\n</g>\n<!-- BH&#45;&gt;BH -->\n<g id=\"edge22\" class=\"edge\">\n<title>BH&#45;&gt;BH</title>\n<path fill=\"none\" stroke=\"#000000\" d=\"M373.8942,-146.1705C369.3942,-171.7799 371.6442,-201.0479 380.6442,-201.0479 388.484,-201.0479 391.2019,-178.8392 388.7979,-156.186\"/>\n<polygon fill=\"#000000\" stroke=\"#000000\" points=\"392.2484,-155.5878 387.3942,-146.1705 385.3161,-156.5595 392.2484,-155.5878\"/>\n<text text-anchor=\"start\" x=\"374.6442\" y=\"-204.8479\" font-family=\"Times,serif\" font-size=\"14.00\" fill=\"#000000\"> 0</text>\n</g>\n<!-- S3&#45;&gt;I -->\n<g id=\"edge11\" class=\"edge\">\n<title>S3&#45;&gt;I</title>\n<path fill=\"none\" stroke=\"#000000\" d=\"M267.1696,-219.8455C239.7083,-208.2081 188.0806,-185.9233 145,-165 141.3845,-163.244 137.5985,-161.3305 133.8964,-159.416\"/>\n<polygon fill=\"#000000\" stroke=\"#000000\" points=\"135.491,-156.3002 125.011,-154.7446 132.2336,-162.4961 135.491,-156.3002\"/>\n<text text-anchor=\"start\" x=\"189.7982\" y=\"-200.8\" font-family=\"Times,serif\" font-size=\"14.00\" fill=\"#000000\"> 1</text>\n</g>\n<!-- S3&#45;&gt;I -->\n<g id=\"edge12\" class=\"edge\">\n<title>S3&#45;&gt;I</title>\n<path fill=\"none\" stroke=\"#000000\" d=\"M265.6578,-229.9283C242.293,-231.1623 203.9707,-230.3881 175,-216 154.0474,-205.594 136.2656,-185.6209 124.4568,-169.6643\"/>\n<polygon fill=\"#000000\" stroke=\"#000000\" points=\"127.1663,-167.4343 118.5287,-161.299 121.455,-171.4817 127.1663,-167.4343\"/>\n<text text-anchor=\"start\" x=\"189.7982\" y=\"-230.8\" font-family=\"Times,serif\" font-size=\"14.00\" fill=\"#000000\"> 0</text>\n</g>\n<!-- S3&#45;&gt;BH -->\n<g id=\"edge15\" class=\"edge\">\n<title>S3&#45;&gt;BH</title>\n<path fill=\"none\" stroke=\"#000000\" d=\"M300.4734,-212.5069C315.5394,-195.6864 339.8417,-168.554 357.7453,-148.5655\"/>\n<polygon fill=\"#000000\" stroke=\"#000000\" points=\"360.4353,-150.8081 364.5002,-141.024 355.2211,-146.1377 360.4353,-150.8081\"/>\n<text text-anchor=\"start\" x=\"327.0963\" y=\"-184.8\" font-family=\"Times,serif\" font-size=\"14.00\" fill=\"#000000\"> λ</text>\n</g>\n<!-- S1&#45;&gt;I -->\n<g id=\"edge7\" class=\"edge\">\n<title>S1&#45;&gt;I</title>\n<path fill=\"none\" stroke=\"#000000\" d=\"M265.7919,-91.3197C242.8782,-90.1857 205.2682,-90.4633 175,-101 158.6119,-106.7049 142.4767,-117.5833 130.2622,-127.2151\"/>\n<polygon fill=\"#000000\" stroke=\"#000000\" points=\"127.9863,-124.5551 122.4775,-133.6052 132.4277,-129.9657 127.9863,-124.5551\"/>\n<text text-anchor=\"start\" x=\"189.7982\" y=\"-104.8\" font-family=\"Times,serif\" font-size=\"14.00\" fill=\"#000000\"> 0</text>\n</g>\n<!-- S1&#45;&gt;I -->\n<g id=\"edge8\" class=\"edge\">\n<title>S1&#45;&gt;I</title>\n<path fill=\"none\" stroke=\"#000000\" d=\"M268.072,-83.4243C245.3014,-73.0385 205.8842,-59.62 175,-73 152.5714,-82.7168 134.5989,-104.3712 123.1065,-121.5864\"/>\n<polygon fill=\"#000000\" stroke=\"#000000\" points=\"120.1075,-119.7801 117.6981,-130.0974 126.0155,-123.5345 120.1075,-119.7801\"/>\n<text text-anchor=\"start\" x=\"189.7982\" y=\"-76.8\" font-family=\"Times,serif\" font-size=\"14.00\" fill=\"#000000\"> 1</text>\n</g>\n<!-- S1&#45;&gt;BH -->\n<g id=\"edge16\" class=\"edge\">\n<title>S1&#45;&gt;BH</title>\n<path fill=\"none\" stroke=\"#000000\" d=\"M306.5414,-99.3622C318.5167,-103.1822 334.0461,-108.1358 347.793,-112.5209\"/>\n<polygon fill=\"#000000\" stroke=\"#000000\" points=\"346.8208,-115.8845 357.4115,-115.5891 348.9481,-109.2155 346.8208,-115.8845\"/>\n<text text-anchor=\"start\" x=\"327.0963\" y=\"-111.8\" font-family=\"Times,serif\" font-size=\"14.00\" fill=\"#000000\"> λ</text>\n</g>\n<!-- F&#45;&gt;BH -->\n<g id=\"edge17\" class=\"edge\">\n<title>F&#45;&gt;BH</title>\n<path fill=\"none\" stroke=\"#000000\" d=\"M307.6097,-29.1394C317.858,-33.4052 329.8316,-39.6405 338.5963,-48 351.1791,-60.001 361.0168,-76.6087 368.0023,-91.1462\"/>\n<polygon fill=\"#000000\" stroke=\"#000000\" points=\"364.8541,-92.6784 372.1811,-100.3312 371.2257,-89.7795 364.8541,-92.6784\"/>\n<text text-anchor=\"start\" x=\"327.0963\" y=\"-51.8\" font-family=\"Times,serif\" font-size=\"14.00\" fill=\"#000000\"> λ</text>\n</g>\n<!-- F&#45;&gt;BH -->\n<g id=\"edge18\" class=\"edge\">\n<title>F&#45;&gt;BH</title>\n<path fill=\"none\" stroke=\"#000000\" d=\"M307.9183,-16.2746C318.0024,-14.8225 329.7422,-15.0731 338.5963,-21 361.0579,-36.0358 371.5329,-65.4891 376.411,-88.8961\"/>\n<polygon fill=\"#000000\" stroke=\"#000000\" points=\"372.985,-89.6184 378.2297,-98.8241 379.8704,-88.3571 372.985,-89.6184\"/>\n<text text-anchor=\"start\" x=\"326.5963\" y=\"-24.8\" font-family=\"Times,serif\" font-size=\"14.00\" fill=\"#000000\"> 1</text>\n</g>\n<!-- F&#45;&gt;BH -->\n<g id=\"edge19\" class=\"edge\">\n<title>F&#45;&gt;BH</title>\n<path fill=\"none\" stroke=\"#000000\" d=\"M301.7067,-38.2274C316.6089,-54.2312 339.6075,-78.9299 356.9432,-97.5471\"/>\n<polygon fill=\"#000000\" stroke=\"#000000\" points=\"354.6098,-100.1771 363.986,-105.1104 359.7327,-95.4068 354.6098,-100.1771\"/>\n<text text-anchor=\"start\" x=\"326.5963\" y=\"-78.8\" font-family=\"Times,serif\" font-size=\"14.00\" fill=\"#000000\"> 0</text>\n</g>\n</g>\n</svg>\n"
                },
                "metadata": {}
              }
            ]
          }
        },
        "ceb41486665c4c37a472f64a42344241": {
          "model_module": "@jupyter-widgets/output",
          "model_name": "OutputModel",
          "model_module_version": "1.0.0",
          "state": {
            "_dom_classes": [],
            "_model_module": "@jupyter-widgets/output",
            "_model_module_version": "1.0.0",
            "_model_name": "OutputModel",
            "_view_count": null,
            "_view_module": "@jupyter-widgets/output",
            "_view_module_version": "1.0.0",
            "_view_name": "OutputView",
            "layout": "IPY_MODEL_1a76a861b2a64be9a92438c985a16d49",
            "msg_id": "",
            "outputs": [
              {
                "output_type": "display_data",
                "data": {
                  "text/plain": "<graphviz.files.Source at 0x7f8f56082e50>",
                  "image/svg+xml": "<?xml version=\"1.0\" encoding=\"UTF-8\" standalone=\"no\"?>\n<!DOCTYPE svg PUBLIC \"-//W3C//DTD SVG 1.1//EN\"\n \"http://www.w3.org/Graphics/SVG/1.1/DTD/svg11.dtd\">\n<!-- Generated by graphviz version 2.40.1 (20161225.0304)\n -->\n<!-- Title: %3 Pages: 1 -->\n<svg width=\"161pt\" height=\"47pt\"\n viewBox=\"0.00 0.00 161.00 47.00\" xmlns=\"http://www.w3.org/2000/svg\" xmlns:xlink=\"http://www.w3.org/1999/xlink\">\n<g id=\"graph0\" class=\"graph\" transform=\"scale(1 1) rotate(0) translate(4 43)\">\n<title>%3</title>\n<polygon fill=\"#ffffff\" stroke=\"transparent\" points=\"-4,4 -4,-43 157,-43 157,4 -4,4\"/>\n<!-- feed -->\n<g id=\"node1\" class=\"node\">\n<title>feed</title>\n<polygon fill=\"none\" stroke=\"#000000\" points=\"8.5,-3.5 8.5,-34.5 102.5,-34.5 102.5,-3.5 8.5,-3.5\"/>\n<text text-anchor=\"start\" x=\"17.5\" y=\"-15.9\" font-family=\"Times,serif\" font-size=\"12.00\" fill=\"#000000\">010110010111λ</text>\n<polygon fill=\"none\" stroke=\"#000000\" points=\"102.5,-3.5 102.5,-34.5 127.5,-34.5 127.5,-3.5 102.5,-3.5\"/>\n<text text-anchor=\"start\" x=\"111.5\" y=\"-15.9\" font-family=\"Times,serif\" font-size=\"12.00\" fill=\"#000000\"> &#160;</text>\n<polygon fill=\"none\" stroke=\"#000000\" points=\"127.5,-3.5 127.5,-34.5 145.5,-34.5 145.5,-3.5 127.5,-3.5\"/>\n</g>\n</g>\n</svg>\n"
                },
                "metadata": {}
              }
            ]
          }
        },
        "5176d0c6991b40d282d9bb0ac4c7f1bc": {
          "model_module": "@jupyter-widgets/controls",
          "model_name": "HBoxModel",
          "model_module_version": "1.5.0",
          "state": {
            "_dom_classes": [],
            "_model_module": "@jupyter-widgets/controls",
            "_model_module_version": "1.5.0",
            "_model_name": "HBoxModel",
            "_view_count": null,
            "_view_module": "@jupyter-widgets/controls",
            "_view_module_version": "1.5.0",
            "_view_name": "HBoxView",
            "box_style": "",
            "children": [
              "IPY_MODEL_501157a58fac4d96a5331180ec28e144",
              "IPY_MODEL_faa0132d04824a489f9462e3c0b9f409",
              "IPY_MODEL_f7fcd68b9a4d4146b2c457fac8a0bfc0",
              "IPY_MODEL_3f4e8a2510cb425ca7298899a09c8847"
            ],
            "layout": "IPY_MODEL_32271fcd73c04db3a89e120f438c01c6"
          }
        },
        "c5918e43707540429ca060c32ac3ddbc": {
          "model_module": "@jupyter-widgets/output",
          "model_name": "OutputModel",
          "model_module_version": "1.0.0",
          "state": {
            "_dom_classes": [],
            "_model_module": "@jupyter-widgets/output",
            "_model_module_version": "1.0.0",
            "_model_name": "OutputModel",
            "_view_count": null,
            "_view_module": "@jupyter-widgets/output",
            "_view_module_version": "1.0.0",
            "_view_name": "OutputView",
            "layout": "IPY_MODEL_5b6028dfaed245d8b48d8ed9a2e8f24c",
            "msg_id": "",
            "outputs": []
          }
        },
        "8a7ac2c8a4814b1da9cc92a0c178d8be": {
          "model_module": "@jupyter-widgets/base",
          "model_name": "LayoutModel",
          "model_module_version": "1.2.0",
          "state": {
            "_model_module": "@jupyter-widgets/base",
            "_model_module_version": "1.2.0",
            "_model_name": "LayoutModel",
            "_view_count": null,
            "_view_module": "@jupyter-widgets/base",
            "_view_module_version": "1.2.0",
            "_view_name": "LayoutView",
            "align_content": null,
            "align_items": null,
            "align_self": null,
            "border": null,
            "bottom": null,
            "display": null,
            "flex": null,
            "flex_flow": null,
            "grid_area": null,
            "grid_auto_columns": null,
            "grid_auto_flow": null,
            "grid_auto_rows": null,
            "grid_column": null,
            "grid_gap": null,
            "grid_row": null,
            "grid_template_areas": null,
            "grid_template_columns": null,
            "grid_template_rows": null,
            "height": null,
            "justify_content": null,
            "justify_items": null,
            "left": null,
            "margin": null,
            "max_height": null,
            "max_width": null,
            "min_height": null,
            "min_width": null,
            "object_fit": null,
            "object_position": null,
            "order": null,
            "overflow": null,
            "overflow_x": null,
            "overflow_y": null,
            "padding": null,
            "right": null,
            "top": null,
            "visibility": null,
            "width": null
          }
        },
        "643055948ebe4dfeb351f775f290407e": {
          "model_module": "@jupyter-widgets/controls",
          "model_name": "TextModel",
          "model_module_version": "1.5.0",
          "state": {
            "_dom_classes": [],
            "_model_module": "@jupyter-widgets/controls",
            "_model_module_version": "1.5.0",
            "_model_name": "TextModel",
            "_view_count": null,
            "_view_module": "@jupyter-widgets/controls",
            "_view_module_version": "1.5.0",
            "_view_name": "TextView",
            "continuous_update": true,
            "description": "Input:",
            "description_tooltip": null,
            "disabled": true,
            "layout": "IPY_MODEL_da917d5448f4442082720ef12e1c37d6",
            "placeholder": "Sigma: {0,1,λ}",
            "style": "IPY_MODEL_a884b135659a4dceb5ed3978a4a2fa3e",
            "value": "010110010111λ"
          }
        },
        "b4f906c1448d416a959cd321421151ed": {
          "model_module": "@jupyter-widgets/controls",
          "model_name": "ButtonModel",
          "model_module_version": "1.5.0",
          "state": {
            "_dom_classes": [],
            "_model_module": "@jupyter-widgets/controls",
            "_model_module_version": "1.5.0",
            "_model_name": "ButtonModel",
            "_view_count": null,
            "_view_module": "@jupyter-widgets/controls",
            "_view_module_version": "1.5.0",
            "_view_name": "ButtonView",
            "button_style": "primary",
            "description": "Change Input",
            "disabled": false,
            "icon": "",
            "layout": "IPY_MODEL_a2610a3f2e504604810336d112e8df45",
            "style": "IPY_MODEL_239366545e064e40981a607fa14fcb41",
            "tooltip": ""
          }
        },
        "c94d4a4f19c64c109751c1bf66476f3f": {
          "model_module": "@jupyter-widgets/base",
          "model_name": "LayoutModel",
          "model_module_version": "1.2.0",
          "state": {
            "_model_module": "@jupyter-widgets/base",
            "_model_module_version": "1.2.0",
            "_model_name": "LayoutModel",
            "_view_count": null,
            "_view_module": "@jupyter-widgets/base",
            "_view_module_version": "1.2.0",
            "_view_name": "LayoutView",
            "align_content": null,
            "align_items": null,
            "align_self": null,
            "border": null,
            "bottom": null,
            "display": null,
            "flex": null,
            "flex_flow": null,
            "grid_area": null,
            "grid_auto_columns": null,
            "grid_auto_flow": null,
            "grid_auto_rows": null,
            "grid_column": null,
            "grid_gap": null,
            "grid_row": null,
            "grid_template_areas": null,
            "grid_template_columns": null,
            "grid_template_rows": null,
            "height": null,
            "justify_content": null,
            "justify_items": null,
            "left": null,
            "margin": null,
            "max_height": null,
            "max_width": null,
            "min_height": null,
            "min_width": null,
            "object_fit": null,
            "object_position": null,
            "order": null,
            "overflow": null,
            "overflow_x": null,
            "overflow_y": null,
            "padding": null,
            "right": null,
            "top": null,
            "visibility": null,
            "width": null
          }
        },
        "501157a58fac4d96a5331180ec28e144": {
          "model_module": "@jupyter-widgets/controls",
          "model_name": "PlayModel",
          "model_module_version": "1.5.0",
          "state": {
            "_dom_classes": [],
            "_model_module": "@jupyter-widgets/controls",
            "_model_module_version": "1.5.0",
            "_model_name": "PlayModel",
            "_playing": false,
            "_repeat": false,
            "_view_count": null,
            "_view_module": "@jupyter-widgets/controls",
            "_view_module_version": "1.5.0",
            "_view_name": "PlayView",
            "description": "Press play",
            "description_tooltip": null,
            "disabled": false,
            "interval": 950,
            "layout": "IPY_MODEL_9bd04166aeca4e5aa6f40f07b09dc8cd",
            "max": 26,
            "min": 0,
            "show_repeat": true,
            "step": 1,
            "style": "IPY_MODEL_5aca828e84f94b4cbd17dbcbecc28e1f",
            "value": 26
          }
        },
        "faa0132d04824a489f9462e3c0b9f409": {
          "model_module": "@jupyter-widgets/controls",
          "model_name": "ButtonModel",
          "model_module_version": "1.5.0",
          "state": {
            "_dom_classes": [],
            "_model_module": "@jupyter-widgets/controls",
            "_model_module_version": "1.5.0",
            "_model_name": "ButtonModel",
            "_view_count": null,
            "_view_module": "@jupyter-widgets/controls",
            "_view_module_version": "1.5.0",
            "_view_name": "ButtonView",
            "button_style": "",
            "description": "",
            "disabled": false,
            "icon": "step-backward",
            "layout": "IPY_MODEL_a73f79f636f34d038f15ac62a1d26309",
            "style": "IPY_MODEL_51488c980cb04ae896bda56be36b41be",
            "tooltip": ""
          }
        },
        "f7fcd68b9a4d4146b2c457fac8a0bfc0": {
          "model_module": "@jupyter-widgets/controls",
          "model_name": "ButtonModel",
          "model_module_version": "1.5.0",
          "state": {
            "_dom_classes": [],
            "_model_module": "@jupyter-widgets/controls",
            "_model_module_version": "1.5.0",
            "_model_name": "ButtonModel",
            "_view_count": null,
            "_view_module": "@jupyter-widgets/controls",
            "_view_module_version": "1.5.0",
            "_view_name": "ButtonView",
            "button_style": "",
            "description": "",
            "disabled": true,
            "icon": "step-forward",
            "layout": "IPY_MODEL_ad5b63a9413849248a46ee60f5d563e3",
            "style": "IPY_MODEL_1b9d203a57194fb4b4091ed38c265a7d",
            "tooltip": ""
          }
        },
        "3f4e8a2510cb425ca7298899a09c8847": {
          "model_module": "@jupyter-widgets/controls",
          "model_name": "IntSliderModel",
          "model_module_version": "1.5.0",
          "state": {
            "_dom_classes": [],
            "_model_module": "@jupyter-widgets/controls",
            "_model_module_version": "1.5.0",
            "_model_name": "IntSliderModel",
            "_view_count": null,
            "_view_module": "@jupyter-widgets/controls",
            "_view_module_version": "1.5.0",
            "_view_name": "IntSliderView",
            "continuous_update": false,
            "description": "Speed:",
            "description_tooltip": null,
            "disabled": false,
            "layout": "IPY_MODEL_f152c1e54c874106aff99ce9ea705656",
            "max": 10,
            "min": 1,
            "orientation": "horizontal",
            "readout": true,
            "readout_format": "d",
            "step": 1,
            "style": "IPY_MODEL_1a9ae78b4f8745ba8bd4c64eb336673d",
            "value": 1
          }
        },
        "32271fcd73c04db3a89e120f438c01c6": {
          "model_module": "@jupyter-widgets/base",
          "model_name": "LayoutModel",
          "model_module_version": "1.2.0",
          "state": {
            "_model_module": "@jupyter-widgets/base",
            "_model_module_version": "1.2.0",
            "_model_name": "LayoutModel",
            "_view_count": null,
            "_view_module": "@jupyter-widgets/base",
            "_view_module_version": "1.2.0",
            "_view_name": "LayoutView",
            "align_content": null,
            "align_items": null,
            "align_self": null,
            "border": null,
            "bottom": null,
            "display": null,
            "flex": null,
            "flex_flow": null,
            "grid_area": null,
            "grid_auto_columns": null,
            "grid_auto_flow": null,
            "grid_auto_rows": null,
            "grid_column": null,
            "grid_gap": null,
            "grid_row": null,
            "grid_template_areas": null,
            "grid_template_columns": null,
            "grid_template_rows": null,
            "height": null,
            "justify_content": null,
            "justify_items": null,
            "left": null,
            "margin": null,
            "max_height": null,
            "max_width": null,
            "min_height": null,
            "min_width": null,
            "object_fit": null,
            "object_position": null,
            "order": null,
            "overflow": null,
            "overflow_x": null,
            "overflow_y": null,
            "padding": null,
            "right": null,
            "top": null,
            "visibility": null,
            "width": null
          }
        },
        "da917d5448f4442082720ef12e1c37d6": {
          "model_module": "@jupyter-widgets/base",
          "model_name": "LayoutModel",
          "model_module_version": "1.2.0",
          "state": {
            "_model_module": "@jupyter-widgets/base",
            "_model_module_version": "1.2.0",
            "_model_name": "LayoutModel",
            "_view_count": null,
            "_view_module": "@jupyter-widgets/base",
            "_view_module_version": "1.2.0",
            "_view_name": "LayoutView",
            "align_content": null,
            "align_items": null,
            "align_self": null,
            "border": null,
            "bottom": null,
            "display": null,
            "flex": null,
            "flex_flow": null,
            "grid_area": null,
            "grid_auto_columns": null,
            "grid_auto_flow": null,
            "grid_auto_rows": null,
            "grid_column": null,
            "grid_gap": null,
            "grid_row": null,
            "grid_template_areas": null,
            "grid_template_columns": null,
            "grid_template_rows": null,
            "height": null,
            "justify_content": null,
            "justify_items": null,
            "left": null,
            "margin": null,
            "max_height": null,
            "max_width": null,
            "min_height": null,
            "min_width": null,
            "object_fit": null,
            "object_position": null,
            "order": null,
            "overflow": null,
            "overflow_x": null,
            "overflow_y": null,
            "padding": null,
            "right": null,
            "top": null,
            "visibility": null,
            "width": "500px"
          }
        },
        "a884b135659a4dceb5ed3978a4a2fa3e": {
          "model_module": "@jupyter-widgets/controls",
          "model_name": "DescriptionStyleModel",
          "model_module_version": "1.5.0",
          "state": {
            "_model_module": "@jupyter-widgets/controls",
            "_model_module_version": "1.5.0",
            "_model_name": "DescriptionStyleModel",
            "_view_count": null,
            "_view_module": "@jupyter-widgets/base",
            "_view_module_version": "1.2.0",
            "_view_name": "StyleView",
            "description_width": ""
          }
        },
        "a2610a3f2e504604810336d112e8df45": {
          "model_module": "@jupyter-widgets/base",
          "model_name": "LayoutModel",
          "model_module_version": "1.2.0",
          "state": {
            "_model_module": "@jupyter-widgets/base",
            "_model_module_version": "1.2.0",
            "_model_name": "LayoutModel",
            "_view_count": null,
            "_view_module": "@jupyter-widgets/base",
            "_view_module_version": "1.2.0",
            "_view_name": "LayoutView",
            "align_content": null,
            "align_items": null,
            "align_self": null,
            "border": null,
            "bottom": null,
            "display": null,
            "flex": null,
            "flex_flow": null,
            "grid_area": null,
            "grid_auto_columns": null,
            "grid_auto_flow": null,
            "grid_auto_rows": null,
            "grid_column": null,
            "grid_gap": null,
            "grid_row": null,
            "grid_template_areas": null,
            "grid_template_columns": null,
            "grid_template_rows": null,
            "height": null,
            "justify_content": null,
            "justify_items": null,
            "left": null,
            "margin": null,
            "max_height": null,
            "max_width": null,
            "min_height": null,
            "min_width": null,
            "object_fit": null,
            "object_position": null,
            "order": null,
            "overflow": null,
            "overflow_x": null,
            "overflow_y": null,
            "padding": null,
            "right": null,
            "top": null,
            "visibility": null,
            "width": null
          }
        },
        "239366545e064e40981a607fa14fcb41": {
          "model_module": "@jupyter-widgets/controls",
          "model_name": "ButtonStyleModel",
          "model_module_version": "1.5.0",
          "state": {
            "_model_module": "@jupyter-widgets/controls",
            "_model_module_version": "1.5.0",
            "_model_name": "ButtonStyleModel",
            "_view_count": null,
            "_view_module": "@jupyter-widgets/base",
            "_view_module_version": "1.2.0",
            "_view_name": "StyleView",
            "button_color": null,
            "font_weight": ""
          }
        },
        "9bd04166aeca4e5aa6f40f07b09dc8cd": {
          "model_module": "@jupyter-widgets/base",
          "model_name": "LayoutModel",
          "model_module_version": "1.2.0",
          "state": {
            "_model_module": "@jupyter-widgets/base",
            "_model_module_version": "1.2.0",
            "_model_name": "LayoutModel",
            "_view_count": null,
            "_view_module": "@jupyter-widgets/base",
            "_view_module_version": "1.2.0",
            "_view_name": "LayoutView",
            "align_content": null,
            "align_items": null,
            "align_self": null,
            "border": null,
            "bottom": null,
            "display": null,
            "flex": null,
            "flex_flow": null,
            "grid_area": null,
            "grid_auto_columns": null,
            "grid_auto_flow": null,
            "grid_auto_rows": null,
            "grid_column": null,
            "grid_gap": null,
            "grid_row": null,
            "grid_template_areas": null,
            "grid_template_columns": null,
            "grid_template_rows": null,
            "height": null,
            "justify_content": null,
            "justify_items": null,
            "left": null,
            "margin": null,
            "max_height": null,
            "max_width": null,
            "min_height": null,
            "min_width": null,
            "object_fit": null,
            "object_position": null,
            "order": null,
            "overflow": null,
            "overflow_x": null,
            "overflow_y": null,
            "padding": null,
            "right": null,
            "top": null,
            "visibility": null,
            "width": null
          }
        },
        "5aca828e84f94b4cbd17dbcbecc28e1f": {
          "model_module": "@jupyter-widgets/controls",
          "model_name": "DescriptionStyleModel",
          "model_module_version": "1.5.0",
          "state": {
            "_model_module": "@jupyter-widgets/controls",
            "_model_module_version": "1.5.0",
            "_model_name": "DescriptionStyleModel",
            "_view_count": null,
            "_view_module": "@jupyter-widgets/base",
            "_view_module_version": "1.2.0",
            "_view_name": "StyleView",
            "description_width": ""
          }
        },
        "a73f79f636f34d038f15ac62a1d26309": {
          "model_module": "@jupyter-widgets/base",
          "model_name": "LayoutModel",
          "model_module_version": "1.2.0",
          "state": {
            "_model_module": "@jupyter-widgets/base",
            "_model_module_version": "1.2.0",
            "_model_name": "LayoutModel",
            "_view_count": null,
            "_view_module": "@jupyter-widgets/base",
            "_view_module_version": "1.2.0",
            "_view_name": "LayoutView",
            "align_content": null,
            "align_items": null,
            "align_self": null,
            "border": null,
            "bottom": null,
            "display": null,
            "flex": null,
            "flex_flow": null,
            "grid_area": null,
            "grid_auto_columns": null,
            "grid_auto_flow": null,
            "grid_auto_rows": null,
            "grid_column": null,
            "grid_gap": null,
            "grid_row": null,
            "grid_template_areas": null,
            "grid_template_columns": null,
            "grid_template_rows": null,
            "height": null,
            "justify_content": null,
            "justify_items": null,
            "left": null,
            "margin": null,
            "max_height": null,
            "max_width": null,
            "min_height": null,
            "min_width": null,
            "object_fit": null,
            "object_position": null,
            "order": null,
            "overflow": null,
            "overflow_x": null,
            "overflow_y": null,
            "padding": null,
            "right": null,
            "top": null,
            "visibility": null,
            "width": "40px"
          }
        },
        "51488c980cb04ae896bda56be36b41be": {
          "model_module": "@jupyter-widgets/controls",
          "model_name": "ButtonStyleModel",
          "model_module_version": "1.5.0",
          "state": {
            "_model_module": "@jupyter-widgets/controls",
            "_model_module_version": "1.5.0",
            "_model_name": "ButtonStyleModel",
            "_view_count": null,
            "_view_module": "@jupyter-widgets/base",
            "_view_module_version": "1.2.0",
            "_view_name": "StyleView",
            "button_color": null,
            "font_weight": ""
          }
        },
        "ad5b63a9413849248a46ee60f5d563e3": {
          "model_module": "@jupyter-widgets/base",
          "model_name": "LayoutModel",
          "model_module_version": "1.2.0",
          "state": {
            "_model_module": "@jupyter-widgets/base",
            "_model_module_version": "1.2.0",
            "_model_name": "LayoutModel",
            "_view_count": null,
            "_view_module": "@jupyter-widgets/base",
            "_view_module_version": "1.2.0",
            "_view_name": "LayoutView",
            "align_content": null,
            "align_items": null,
            "align_self": null,
            "border": null,
            "bottom": null,
            "display": null,
            "flex": null,
            "flex_flow": null,
            "grid_area": null,
            "grid_auto_columns": null,
            "grid_auto_flow": null,
            "grid_auto_rows": null,
            "grid_column": null,
            "grid_gap": null,
            "grid_row": null,
            "grid_template_areas": null,
            "grid_template_columns": null,
            "grid_template_rows": null,
            "height": null,
            "justify_content": null,
            "justify_items": null,
            "left": null,
            "margin": null,
            "max_height": null,
            "max_width": null,
            "min_height": null,
            "min_width": null,
            "object_fit": null,
            "object_position": null,
            "order": null,
            "overflow": null,
            "overflow_x": null,
            "overflow_y": null,
            "padding": null,
            "right": null,
            "top": null,
            "visibility": null,
            "width": "40px"
          }
        },
        "1b9d203a57194fb4b4091ed38c265a7d": {
          "model_module": "@jupyter-widgets/controls",
          "model_name": "ButtonStyleModel",
          "model_module_version": "1.5.0",
          "state": {
            "_model_module": "@jupyter-widgets/controls",
            "_model_module_version": "1.5.0",
            "_model_name": "ButtonStyleModel",
            "_view_count": null,
            "_view_module": "@jupyter-widgets/base",
            "_view_module_version": "1.2.0",
            "_view_name": "StyleView",
            "button_color": null,
            "font_weight": ""
          }
        },
        "f152c1e54c874106aff99ce9ea705656": {
          "model_module": "@jupyter-widgets/base",
          "model_name": "LayoutModel",
          "model_module_version": "1.2.0",
          "state": {
            "_model_module": "@jupyter-widgets/base",
            "_model_module_version": "1.2.0",
            "_model_name": "LayoutModel",
            "_view_count": null,
            "_view_module": "@jupyter-widgets/base",
            "_view_module_version": "1.2.0",
            "_view_name": "LayoutView",
            "align_content": null,
            "align_items": null,
            "align_self": null,
            "border": null,
            "bottom": null,
            "display": null,
            "flex": null,
            "flex_flow": null,
            "grid_area": null,
            "grid_auto_columns": null,
            "grid_auto_flow": null,
            "grid_auto_rows": null,
            "grid_column": null,
            "grid_gap": null,
            "grid_row": null,
            "grid_template_areas": null,
            "grid_template_columns": null,
            "grid_template_rows": null,
            "height": null,
            "justify_content": null,
            "justify_items": null,
            "left": null,
            "margin": null,
            "max_height": null,
            "max_width": null,
            "min_height": null,
            "min_width": null,
            "object_fit": null,
            "object_position": null,
            "order": null,
            "overflow": null,
            "overflow_x": null,
            "overflow_y": null,
            "padding": null,
            "right": null,
            "top": null,
            "visibility": null,
            "width": null
          }
        },
        "1a9ae78b4f8745ba8bd4c64eb336673d": {
          "model_module": "@jupyter-widgets/controls",
          "model_name": "SliderStyleModel",
          "model_module_version": "1.5.0",
          "state": {
            "_model_module": "@jupyter-widgets/controls",
            "_model_module_version": "1.5.0",
            "_model_name": "SliderStyleModel",
            "_view_count": null,
            "_view_module": "@jupyter-widgets/base",
            "_view_module_version": "1.2.0",
            "_view_name": "StyleView",
            "description_width": "",
            "handle_color": null
          }
        },
        "0fc238de8f2642d99dc38b311729fc32": {
          "model_module": "@jupyter-widgets/base",
          "model_name": "LayoutModel",
          "model_module_version": "1.2.0",
          "state": {
            "_model_module": "@jupyter-widgets/base",
            "_model_module_version": "1.2.0",
            "_model_name": "LayoutModel",
            "_view_count": null,
            "_view_module": "@jupyter-widgets/base",
            "_view_module_version": "1.2.0",
            "_view_name": "LayoutView",
            "align_content": null,
            "align_items": null,
            "align_self": null,
            "border": null,
            "bottom": null,
            "display": null,
            "flex": null,
            "flex_flow": null,
            "grid_area": null,
            "grid_auto_columns": null,
            "grid_auto_flow": null,
            "grid_auto_rows": null,
            "grid_column": null,
            "grid_gap": null,
            "grid_row": null,
            "grid_template_areas": null,
            "grid_template_columns": null,
            "grid_template_rows": null,
            "height": null,
            "justify_content": null,
            "justify_items": null,
            "left": null,
            "margin": null,
            "max_height": null,
            "max_width": null,
            "min_height": null,
            "min_width": null,
            "object_fit": null,
            "object_position": null,
            "order": null,
            "overflow": null,
            "overflow_x": null,
            "overflow_y": null,
            "padding": null,
            "right": null,
            "top": null,
            "visibility": null,
            "width": null
          }
        },
        "1a76a861b2a64be9a92438c985a16d49": {
          "model_module": "@jupyter-widgets/base",
          "model_name": "LayoutModel",
          "model_module_version": "1.2.0",
          "state": {
            "_model_module": "@jupyter-widgets/base",
            "_model_module_version": "1.2.0",
            "_model_name": "LayoutModel",
            "_view_count": null,
            "_view_module": "@jupyter-widgets/base",
            "_view_module_version": "1.2.0",
            "_view_name": "LayoutView",
            "align_content": null,
            "align_items": null,
            "align_self": null,
            "border": null,
            "bottom": null,
            "display": null,
            "flex": null,
            "flex_flow": null,
            "grid_area": null,
            "grid_auto_columns": null,
            "grid_auto_flow": null,
            "grid_auto_rows": null,
            "grid_column": null,
            "grid_gap": null,
            "grid_row": null,
            "grid_template_areas": null,
            "grid_template_columns": null,
            "grid_template_rows": null,
            "height": null,
            "justify_content": null,
            "justify_items": null,
            "left": null,
            "margin": null,
            "max_height": null,
            "max_width": null,
            "min_height": null,
            "min_width": null,
            "object_fit": null,
            "object_position": null,
            "order": null,
            "overflow": null,
            "overflow_x": null,
            "overflow_y": null,
            "padding": null,
            "right": null,
            "top": null,
            "visibility": null,
            "width": null
          }
        },
        "5b6028dfaed245d8b48d8ed9a2e8f24c": {
          "model_module": "@jupyter-widgets/base",
          "model_name": "LayoutModel",
          "model_module_version": "1.2.0",
          "state": {
            "_model_module": "@jupyter-widgets/base",
            "_model_module_version": "1.2.0",
            "_model_name": "LayoutModel",
            "_view_count": null,
            "_view_module": "@jupyter-widgets/base",
            "_view_module_version": "1.2.0",
            "_view_name": "LayoutView",
            "align_content": null,
            "align_items": null,
            "align_self": null,
            "border": null,
            "bottom": null,
            "display": null,
            "flex": null,
            "flex_flow": null,
            "grid_area": null,
            "grid_auto_columns": null,
            "grid_auto_flow": null,
            "grid_auto_rows": null,
            "grid_column": null,
            "grid_gap": null,
            "grid_row": null,
            "grid_template_areas": null,
            "grid_template_columns": null,
            "grid_template_rows": null,
            "height": null,
            "justify_content": null,
            "justify_items": null,
            "left": null,
            "margin": null,
            "max_height": null,
            "max_width": null,
            "min_height": null,
            "min_width": null,
            "object_fit": null,
            "object_position": null,
            "order": null,
            "overflow": null,
            "overflow_x": null,
            "overflow_y": null,
            "padding": null,
            "right": null,
            "top": null,
            "visibility": null,
            "width": null
          }
        }
      }
    }
  },
  "nbformat": 4,
  "nbformat_minor": 0
}